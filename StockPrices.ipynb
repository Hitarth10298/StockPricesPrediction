{
 "cells": [
  {
   "cell_type": "code",
   "execution_count": 1,
   "metadata": {
    "ExecuteTime": {
     "end_time": "2020-07-16T05:16:32.085628Z",
     "start_time": "2020-07-16T05:16:24.268486Z"
    }
   },
   "outputs": [
    {
     "name": "stderr",
     "output_type": "stream",
     "text": [
      "Using TensorFlow backend.\n"
     ]
    }
   ],
   "source": [
    "from pyforest import *\n",
    "import os\n",
    "import warnings\n",
    "warnings.filterwarnings('ignore')\n",
    "import matplotlib.pyplot as plt\n",
    "import seaborn as sns\n",
    "%matplotlib inline\n",
    "from pandas import datetime\n",
    "import math, time\n",
    "import itertools\n",
    "from sklearn import preprocessing\n",
    "import datetime\n",
    "from operator import itemgetter\n",
    "from sklearn.metrics import mean_squared_error\n",
    "from math import sqrt\n",
    "from keras.models import Sequential\n",
    "from keras.layers.core import Dense, Dropout, Activation\n",
    "from keras.layers.recurrent import LSTM, GRU\n",
    "from keras.models import load_model\n",
    "import keras\n",
    "import h5py\n",
    "import requests\n",
    "sns.set()\n",
    "plt.style.use('ggplot')"
   ]
  },
  {
   "cell_type": "code",
   "execution_count": 2,
   "metadata": {
    "ExecuteTime": {
     "end_time": "2020-07-16T05:16:32.840707Z",
     "start_time": "2020-07-16T05:16:32.086625Z"
    }
   },
   "outputs": [
    {
     "data": {
      "application/javascript": [
       "\n",
       "        if (window._pyforest_update_imports_cell) { window._pyforest_update_imports_cell('import pandas as pd'); }\n",
       "    "
      ],
      "text/plain": [
       "<IPython.core.display.Javascript object>"
      ]
     },
     "metadata": {},
     "output_type": "display_data"
    }
   ],
   "source": [
    "df = pd.read_csv('prices-split-adjusted.csv').set_index('date')"
   ]
  },
  {
   "cell_type": "code",
   "execution_count": 3,
   "metadata": {
    "ExecuteTime": {
     "end_time": "2020-07-16T05:16:32.863603Z",
     "start_time": "2020-07-16T05:16:32.841662Z"
    }
   },
   "outputs": [
    {
     "data": {
      "text/html": [
       "<div>\n",
       "<style scoped>\n",
       "    .dataframe tbody tr th:only-of-type {\n",
       "        vertical-align: middle;\n",
       "    }\n",
       "\n",
       "    .dataframe tbody tr th {\n",
       "        vertical-align: top;\n",
       "    }\n",
       "\n",
       "    .dataframe thead th {\n",
       "        text-align: right;\n",
       "    }\n",
       "</style>\n",
       "<table border=\"1\" class=\"dataframe\">\n",
       "  <thead>\n",
       "    <tr style=\"text-align: right;\">\n",
       "      <th></th>\n",
       "      <th>symbol</th>\n",
       "      <th>open</th>\n",
       "      <th>close</th>\n",
       "      <th>low</th>\n",
       "      <th>high</th>\n",
       "      <th>volume</th>\n",
       "    </tr>\n",
       "    <tr>\n",
       "      <th>date</th>\n",
       "      <th></th>\n",
       "      <th></th>\n",
       "      <th></th>\n",
       "      <th></th>\n",
       "      <th></th>\n",
       "      <th></th>\n",
       "    </tr>\n",
       "  </thead>\n",
       "  <tbody>\n",
       "    <tr>\n",
       "      <td>05-01-2016</td>\n",
       "      <td>WLTW</td>\n",
       "      <td>123.430000</td>\n",
       "      <td>125.839996</td>\n",
       "      <td>122.309998</td>\n",
       "      <td>126.250000</td>\n",
       "      <td>2163600</td>\n",
       "    </tr>\n",
       "    <tr>\n",
       "      <td>06-01-2016</td>\n",
       "      <td>WLTW</td>\n",
       "      <td>125.239998</td>\n",
       "      <td>119.980003</td>\n",
       "      <td>119.940002</td>\n",
       "      <td>125.540001</td>\n",
       "      <td>2386400</td>\n",
       "    </tr>\n",
       "    <tr>\n",
       "      <td>07-01-2016</td>\n",
       "      <td>WLTW</td>\n",
       "      <td>116.379997</td>\n",
       "      <td>114.949997</td>\n",
       "      <td>114.930000</td>\n",
       "      <td>119.739998</td>\n",
       "      <td>2489500</td>\n",
       "    </tr>\n",
       "    <tr>\n",
       "      <td>08-01-2016</td>\n",
       "      <td>WLTW</td>\n",
       "      <td>115.480003</td>\n",
       "      <td>116.620003</td>\n",
       "      <td>113.500000</td>\n",
       "      <td>117.440002</td>\n",
       "      <td>2006300</td>\n",
       "    </tr>\n",
       "    <tr>\n",
       "      <td>11-01-2016</td>\n",
       "      <td>WLTW</td>\n",
       "      <td>117.010002</td>\n",
       "      <td>114.970001</td>\n",
       "      <td>114.089996</td>\n",
       "      <td>117.330002</td>\n",
       "      <td>1408600</td>\n",
       "    </tr>\n",
       "  </tbody>\n",
       "</table>\n",
       "</div>"
      ],
      "text/plain": [
       "           symbol        open       close         low        high   volume\n",
       "date                                                                      \n",
       "05-01-2016   WLTW  123.430000  125.839996  122.309998  126.250000  2163600\n",
       "06-01-2016   WLTW  125.239998  119.980003  119.940002  125.540001  2386400\n",
       "07-01-2016   WLTW  116.379997  114.949997  114.930000  119.739998  2489500\n",
       "08-01-2016   WLTW  115.480003  116.620003  113.500000  117.440002  2006300\n",
       "11-01-2016   WLTW  117.010002  114.970001  114.089996  117.330002  1408600"
      ]
     },
     "execution_count": 3,
     "metadata": {},
     "output_type": "execute_result"
    }
   ],
   "source": [
    "df.head()"
   ]
  },
  {
   "cell_type": "code",
   "execution_count": 4,
   "metadata": {
    "ExecuteTime": {
     "end_time": "2020-07-16T05:16:33.081031Z",
     "start_time": "2020-07-16T05:16:32.866595Z"
    }
   },
   "outputs": [
    {
     "data": {
      "text/html": [
       "<div>\n",
       "<style scoped>\n",
       "    .dataframe tbody tr th:only-of-type {\n",
       "        vertical-align: middle;\n",
       "    }\n",
       "\n",
       "    .dataframe tbody tr th {\n",
       "        vertical-align: top;\n",
       "    }\n",
       "\n",
       "    .dataframe thead th {\n",
       "        text-align: right;\n",
       "    }\n",
       "</style>\n",
       "<table border=\"1\" class=\"dataframe\">\n",
       "  <thead>\n",
       "    <tr style=\"text-align: right;\">\n",
       "      <th></th>\n",
       "      <th>open</th>\n",
       "      <th>close</th>\n",
       "      <th>low</th>\n",
       "      <th>high</th>\n",
       "      <th>volume</th>\n",
       "    </tr>\n",
       "  </thead>\n",
       "  <tbody>\n",
       "    <tr>\n",
       "      <td>count</td>\n",
       "      <td>851264.000000</td>\n",
       "      <td>851264.000000</td>\n",
       "      <td>851264.000000</td>\n",
       "      <td>851264.000000</td>\n",
       "      <td>8.512640e+05</td>\n",
       "    </tr>\n",
       "    <tr>\n",
       "      <td>mean</td>\n",
       "      <td>64.993618</td>\n",
       "      <td>65.011913</td>\n",
       "      <td>64.336541</td>\n",
       "      <td>65.639748</td>\n",
       "      <td>5.415113e+06</td>\n",
       "    </tr>\n",
       "    <tr>\n",
       "      <td>std</td>\n",
       "      <td>75.203893</td>\n",
       "      <td>75.201216</td>\n",
       "      <td>74.459518</td>\n",
       "      <td>75.906861</td>\n",
       "      <td>1.249468e+07</td>\n",
       "    </tr>\n",
       "    <tr>\n",
       "      <td>min</td>\n",
       "      <td>1.660000</td>\n",
       "      <td>1.590000</td>\n",
       "      <td>1.500000</td>\n",
       "      <td>1.810000</td>\n",
       "      <td>0.000000e+00</td>\n",
       "    </tr>\n",
       "    <tr>\n",
       "      <td>25%</td>\n",
       "      <td>31.270000</td>\n",
       "      <td>31.292776</td>\n",
       "      <td>30.940001</td>\n",
       "      <td>31.620001</td>\n",
       "      <td>1.221500e+06</td>\n",
       "    </tr>\n",
       "    <tr>\n",
       "      <td>50%</td>\n",
       "      <td>48.459999</td>\n",
       "      <td>48.480000</td>\n",
       "      <td>47.970001</td>\n",
       "      <td>48.959999</td>\n",
       "      <td>2.476250e+06</td>\n",
       "    </tr>\n",
       "    <tr>\n",
       "      <td>75%</td>\n",
       "      <td>75.120003</td>\n",
       "      <td>75.139999</td>\n",
       "      <td>74.400002</td>\n",
       "      <td>75.849998</td>\n",
       "      <td>5.222500e+06</td>\n",
       "    </tr>\n",
       "    <tr>\n",
       "      <td>max</td>\n",
       "      <td>1584.439941</td>\n",
       "      <td>1578.130005</td>\n",
       "      <td>1549.939941</td>\n",
       "      <td>1600.930054</td>\n",
       "      <td>8.596434e+08</td>\n",
       "    </tr>\n",
       "  </tbody>\n",
       "</table>\n",
       "</div>"
      ],
      "text/plain": [
       "                open          close            low           high  \\\n",
       "count  851264.000000  851264.000000  851264.000000  851264.000000   \n",
       "mean       64.993618      65.011913      64.336541      65.639748   \n",
       "std        75.203893      75.201216      74.459518      75.906861   \n",
       "min         1.660000       1.590000       1.500000       1.810000   \n",
       "25%        31.270000      31.292776      30.940001      31.620001   \n",
       "50%        48.459999      48.480000      47.970001      48.959999   \n",
       "75%        75.120003      75.139999      74.400002      75.849998   \n",
       "max      1584.439941    1578.130005    1549.939941    1600.930054   \n",
       "\n",
       "             volume  \n",
       "count  8.512640e+05  \n",
       "mean   5.415113e+06  \n",
       "std    1.249468e+07  \n",
       "min    0.000000e+00  \n",
       "25%    1.221500e+06  \n",
       "50%    2.476250e+06  \n",
       "75%    5.222500e+06  \n",
       "max    8.596434e+08  "
      ]
     },
     "execution_count": 4,
     "metadata": {},
     "output_type": "execute_result"
    }
   ],
   "source": [
    "df.describe()"
   ]
  },
  {
   "cell_type": "code",
   "execution_count": 5,
   "metadata": {
    "ExecuteTime": {
     "end_time": "2020-07-16T05:16:33.161807Z",
     "start_time": "2020-07-16T05:16:33.083017Z"
    }
   },
   "outputs": [
    {
     "name": "stdout",
     "output_type": "stream",
     "text": [
      "<class 'pandas.core.frame.DataFrame'>\n",
      "Index: 851264 entries, 05-01-2016 to 30-12-2016\n",
      "Data columns (total 6 columns):\n",
      "symbol    851264 non-null object\n",
      "open      851264 non-null float64\n",
      "close     851264 non-null float64\n",
      "low       851264 non-null float64\n",
      "high      851264 non-null float64\n",
      "volume    851264 non-null int64\n",
      "dtypes: float64(4), int64(1), object(1)\n",
      "memory usage: 45.5+ MB\n"
     ]
    }
   ],
   "source": [
    "df.info()"
   ]
  },
  {
   "cell_type": "code",
   "execution_count": 6,
   "metadata": {
    "ExecuteTime": {
     "end_time": "2020-07-16T05:16:33.171784Z",
     "start_time": "2020-07-16T05:16:33.165797Z"
    }
   },
   "outputs": [
    {
     "data": {
      "text/plain": [
       "(851264, 6)"
      ]
     },
     "execution_count": 6,
     "metadata": {},
     "output_type": "execute_result"
    }
   ],
   "source": [
    "df.shape"
   ]
  },
  {
   "cell_type": "code",
   "execution_count": 7,
   "metadata": {
    "ExecuteTime": {
     "end_time": "2020-07-16T05:16:33.321380Z",
     "start_time": "2020-07-16T05:16:33.175780Z"
    }
   },
   "outputs": [
    {
     "name": "stdout",
     "output_type": "stream",
     "text": [
      "VIAB    1762\n",
      "CRM     1762\n",
      "FDX     1762\n",
      "DHI     1762\n",
      "JNPR    1762\n",
      "        ... \n",
      "KHC      378\n",
      "HPE      304\n",
      "CSRA     284\n",
      "WLTW     251\n",
      "FTV      126\n",
      "Name: symbol, Length: 501, dtype: int64\n"
     ]
    }
   ],
   "source": [
    "print(df.symbol.value_counts())"
   ]
  },
  {
   "cell_type": "code",
   "execution_count": 8,
   "metadata": {
    "ExecuteTime": {
     "end_time": "2020-07-16T05:16:33.437070Z",
     "start_time": "2020-07-16T05:16:33.323374Z"
    }
   },
   "outputs": [
    {
     "name": "stdout",
     "output_type": "stream",
     "text": [
      "35.000000    293\n",
      "47.000000    261\n",
      "50.000000    242\n",
      "40.000000    237\n",
      "34.000000    236\n",
      "            ... \n",
      "26.390532      1\n",
      "28.245439      1\n",
      "46.084811      1\n",
      "10.621667      1\n",
      "54.576858      1\n",
      "Name: open, Length: 97408, dtype: int64\n"
     ]
    }
   ],
   "source": [
    "print(df.open.value_counts())"
   ]
  },
  {
   "cell_type": "code",
   "execution_count": 9,
   "metadata": {
    "ExecuteTime": {
     "end_time": "2020-07-16T05:16:33.548772Z",
     "start_time": "2020-07-16T05:16:33.441061Z"
    }
   },
   "outputs": [
    {
     "name": "stdout",
     "output_type": "stream",
     "text": [
      "35.000000     183\n",
      "34.000000     179\n",
      "34.500000     178\n",
      "47.000000     177\n",
      "36.000000     171\n",
      "             ... \n",
      "143.621821      1\n",
      "112.934774      1\n",
      "594.260010      1\n",
      "235.750000      1\n",
      "36.762699       1\n",
      "Name: close, Length: 98418, dtype: int64\n"
     ]
    }
   ],
   "source": [
    "print(df.close.value_counts())"
   ]
  },
  {
   "cell_type": "code",
   "execution_count": 10,
   "metadata": {
    "ExecuteTime": {
     "end_time": "2020-07-16T05:16:33.655487Z",
     "start_time": "2020-07-16T05:16:33.550767Z"
    }
   },
   "outputs": [
    {
     "name": "stdout",
     "output_type": "stream",
     "text": [
      "34.000000     273\n",
      "35.000000     261\n",
      "32.000000     253\n",
      "50.000000     242\n",
      "38.000000     241\n",
      "             ... \n",
      "18.855406       1\n",
      "42.041422       1\n",
      "59.070000       1\n",
      "467.640015      1\n",
      "541.299988      1\n",
      "Name: high, Length: 97643, dtype: int64\n"
     ]
    }
   ],
   "source": [
    "print(df.high.value_counts())"
   ]
  },
  {
   "cell_type": "code",
   "execution_count": 11,
   "metadata": {
    "ExecuteTime": {
     "end_time": "2020-07-16T05:16:33.800101Z",
     "start_time": "2020-07-16T05:16:33.659477Z"
    }
   },
   "outputs": [
    {
     "name": "stdout",
     "output_type": "stream",
     "text": [
      "34.000000     224\n",
      "34.500000     221\n",
      "33.000000     219\n",
      "36.000000     214\n",
      "35.000000     212\n",
      "             ... \n",
      "36.952926       1\n",
      "40.386002       1\n",
      "64.455002       1\n",
      "54.382107       1\n",
      "307.792790      1\n",
      "Name: low, Length: 97354, dtype: int64\n"
     ]
    }
   ],
   "source": [
    "print(df.low.value_counts())"
   ]
  },
  {
   "cell_type": "code",
   "execution_count": 12,
   "metadata": {
    "ExecuteTime": {
     "end_time": "2020-07-16T05:16:33.951696Z",
     "start_time": "2020-07-16T05:16:33.803093Z"
    }
   },
   "outputs": [
    {
     "name": "stdout",
     "output_type": "stream",
     "text": [
      "1100000     54\n",
      "1200000     50\n",
      "1500000     50\n",
      "1400000     49\n",
      "1900000     46\n",
      "            ..\n",
      "11165100     1\n",
      "6353900      1\n",
      "16599200     1\n",
      "11397300     1\n",
      "12591100     1\n",
      "Name: volume, Length: 171073, dtype: int64\n"
     ]
    }
   ],
   "source": [
    "print(df.volume.value_counts())"
   ]
  },
  {
   "cell_type": "code",
   "execution_count": 13,
   "metadata": {
    "ExecuteTime": {
     "end_time": "2020-07-16T05:16:33.967654Z",
     "start_time": "2020-07-16T05:16:33.953690Z"
    }
   },
   "outputs": [
    {
     "name": "stdout",
     "output_type": "stream",
     "text": [
      "1584.439941\n",
      "1.66\n",
      "64.99361772893035\n"
     ]
    }
   ],
   "source": [
    "print(df.open.max())\n",
    "print(df.open.min())\n",
    "print(df.open.mean())"
   ]
  },
  {
   "cell_type": "code",
   "execution_count": 14,
   "metadata": {
    "ExecuteTime": {
     "end_time": "2020-07-16T05:16:33.982611Z",
     "start_time": "2020-07-16T05:16:33.969647Z"
    }
   },
   "outputs": [
    {
     "name": "stdout",
     "output_type": "stream",
     "text": [
      "1578.130005\n",
      "1.59\n",
      "65.0119127422261\n"
     ]
    }
   ],
   "source": [
    "print(df.close.max())\n",
    "print(df.close.min())\n",
    "print(df.close.mean())"
   ]
  },
  {
   "cell_type": "code",
   "execution_count": 15,
   "metadata": {
    "ExecuteTime": {
     "end_time": "2020-07-16T05:16:34.028492Z",
     "start_time": "2020-07-16T05:16:33.984616Z"
    }
   },
   "outputs": [
    {
     "data": {
      "text/html": [
       "<div>\n",
       "<style scoped>\n",
       "    .dataframe tbody tr th:only-of-type {\n",
       "        vertical-align: middle;\n",
       "    }\n",
       "\n",
       "    .dataframe tbody tr th {\n",
       "        vertical-align: top;\n",
       "    }\n",
       "\n",
       "    .dataframe thead th {\n",
       "        text-align: right;\n",
       "    }\n",
       "</style>\n",
       "<table border=\"1\" class=\"dataframe\">\n",
       "  <thead>\n",
       "    <tr style=\"text-align: right;\">\n",
       "      <th></th>\n",
       "      <th>symbol</th>\n",
       "      <th>open</th>\n",
       "      <th>close</th>\n",
       "      <th>low</th>\n",
       "      <th>high</th>\n",
       "      <th>volume</th>\n",
       "    </tr>\n",
       "    <tr>\n",
       "      <th>date</th>\n",
       "      <th></th>\n",
       "      <th></th>\n",
       "      <th></th>\n",
       "      <th></th>\n",
       "      <th></th>\n",
       "      <th></th>\n",
       "    </tr>\n",
       "  </thead>\n",
       "  <tbody>\n",
       "    <tr>\n",
       "      <td>10-11-2016</td>\n",
       "      <td>PCLN</td>\n",
       "      <td>1584.439941</td>\n",
       "      <td>1554.319946</td>\n",
       "      <td>1520.300049</td>\n",
       "      <td>1600.930054</td>\n",
       "      <td>1101600</td>\n",
       "    </tr>\n",
       "  </tbody>\n",
       "</table>\n",
       "</div>"
      ],
      "text/plain": [
       "           symbol         open        close          low         high   volume\n",
       "date                                                                          \n",
       "10-11-2016   PCLN  1584.439941  1554.319946  1520.300049  1600.930054  1101600"
      ]
     },
     "execution_count": 15,
     "metadata": {},
     "output_type": "execute_result"
    }
   ],
   "source": [
    "df.loc[df.open == 1584.439941]"
   ]
  },
  {
   "cell_type": "code",
   "execution_count": 16,
   "metadata": {
    "ExecuteTime": {
     "end_time": "2020-07-16T05:16:34.043454Z",
     "start_time": "2020-07-16T05:16:34.031482Z"
    }
   },
   "outputs": [
    {
     "data": {
      "text/html": [
       "<div>\n",
       "<style scoped>\n",
       "    .dataframe tbody tr th:only-of-type {\n",
       "        vertical-align: middle;\n",
       "    }\n",
       "\n",
       "    .dataframe tbody tr th {\n",
       "        vertical-align: top;\n",
       "    }\n",
       "\n",
       "    .dataframe thead th {\n",
       "        text-align: right;\n",
       "    }\n",
       "</style>\n",
       "<table border=\"1\" class=\"dataframe\">\n",
       "  <thead>\n",
       "    <tr style=\"text-align: right;\">\n",
       "      <th></th>\n",
       "      <th>symbol</th>\n",
       "      <th>open</th>\n",
       "      <th>close</th>\n",
       "      <th>low</th>\n",
       "      <th>high</th>\n",
       "      <th>volume</th>\n",
       "    </tr>\n",
       "    <tr>\n",
       "      <th>date</th>\n",
       "      <th></th>\n",
       "      <th></th>\n",
       "      <th></th>\n",
       "      <th></th>\n",
       "      <th></th>\n",
       "      <th></th>\n",
       "    </tr>\n",
       "  </thead>\n",
       "  <tbody>\n",
       "    <tr>\n",
       "      <td>11-02-2016</td>\n",
       "      <td>CHK</td>\n",
       "      <td>1.66</td>\n",
       "      <td>1.78</td>\n",
       "      <td>1.53</td>\n",
       "      <td>1.81</td>\n",
       "      <td>50804200</td>\n",
       "    </tr>\n",
       "  </tbody>\n",
       "</table>\n",
       "</div>"
      ],
      "text/plain": [
       "           symbol  open  close   low  high    volume\n",
       "date                                                \n",
       "11-02-2016    CHK  1.66   1.78  1.53  1.81  50804200"
      ]
     },
     "execution_count": 16,
     "metadata": {},
     "output_type": "execute_result"
    }
   ],
   "source": [
    "df.loc[df.open == 1.66]"
   ]
  },
  {
   "cell_type": "code",
   "execution_count": 17,
   "metadata": {
    "ExecuteTime": {
     "end_time": "2020-07-16T05:16:34.067386Z",
     "start_time": "2020-07-16T05:16:34.048437Z"
    }
   },
   "outputs": [
    {
     "data": {
      "text/html": [
       "<div>\n",
       "<style scoped>\n",
       "    .dataframe tbody tr th:only-of-type {\n",
       "        vertical-align: middle;\n",
       "    }\n",
       "\n",
       "    .dataframe tbody tr th {\n",
       "        vertical-align: top;\n",
       "    }\n",
       "\n",
       "    .dataframe thead th {\n",
       "        text-align: right;\n",
       "    }\n",
       "</style>\n",
       "<table border=\"1\" class=\"dataframe\">\n",
       "  <thead>\n",
       "    <tr style=\"text-align: right;\">\n",
       "      <th></th>\n",
       "      <th>symbol</th>\n",
       "      <th>open</th>\n",
       "      <th>close</th>\n",
       "      <th>low</th>\n",
       "      <th>high</th>\n",
       "      <th>volume</th>\n",
       "    </tr>\n",
       "    <tr>\n",
       "      <th>date</th>\n",
       "      <th></th>\n",
       "      <th></th>\n",
       "      <th></th>\n",
       "      <th></th>\n",
       "      <th></th>\n",
       "      <th></th>\n",
       "    </tr>\n",
       "  </thead>\n",
       "  <tbody>\n",
       "    <tr>\n",
       "      <td>08-11-2016</td>\n",
       "      <td>PCLN</td>\n",
       "      <td>1540.0</td>\n",
       "      <td>1578.130005</td>\n",
       "      <td>1540.0</td>\n",
       "      <td>1589.209961</td>\n",
       "      <td>1559000</td>\n",
       "    </tr>\n",
       "  </tbody>\n",
       "</table>\n",
       "</div>"
      ],
      "text/plain": [
       "           symbol    open        close     low         high   volume\n",
       "date                                                                \n",
       "08-11-2016   PCLN  1540.0  1578.130005  1540.0  1589.209961  1559000"
      ]
     },
     "execution_count": 17,
     "metadata": {},
     "output_type": "execute_result"
    }
   ],
   "source": [
    "df.loc[df.close == 1578.130005]"
   ]
  },
  {
   "cell_type": "code",
   "execution_count": 18,
   "metadata": {
    "ExecuteTime": {
     "end_time": "2020-07-16T05:16:34.098303Z",
     "start_time": "2020-07-16T05:16:34.070378Z"
    }
   },
   "outputs": [
    {
     "data": {
      "text/html": [
       "<div>\n",
       "<style scoped>\n",
       "    .dataframe tbody tr th:only-of-type {\n",
       "        vertical-align: middle;\n",
       "    }\n",
       "\n",
       "    .dataframe tbody tr th {\n",
       "        vertical-align: top;\n",
       "    }\n",
       "\n",
       "    .dataframe thead th {\n",
       "        text-align: right;\n",
       "    }\n",
       "</style>\n",
       "<table border=\"1\" class=\"dataframe\">\n",
       "  <thead>\n",
       "    <tr style=\"text-align: right;\">\n",
       "      <th></th>\n",
       "      <th>symbol</th>\n",
       "      <th>open</th>\n",
       "      <th>close</th>\n",
       "      <th>low</th>\n",
       "      <th>high</th>\n",
       "      <th>volume</th>\n",
       "    </tr>\n",
       "    <tr>\n",
       "      <th>date</th>\n",
       "      <th></th>\n",
       "      <th></th>\n",
       "      <th></th>\n",
       "      <th></th>\n",
       "      <th></th>\n",
       "      <th></th>\n",
       "    </tr>\n",
       "  </thead>\n",
       "  <tbody>\n",
       "    <tr>\n",
       "      <td>12-02-2016</td>\n",
       "      <td>CHK</td>\n",
       "      <td>1.86</td>\n",
       "      <td>1.59</td>\n",
       "      <td>1.56</td>\n",
       "      <td>1.89</td>\n",
       "      <td>49579200</td>\n",
       "    </tr>\n",
       "  </tbody>\n",
       "</table>\n",
       "</div>"
      ],
      "text/plain": [
       "           symbol  open  close   low  high    volume\n",
       "date                                                \n",
       "12-02-2016    CHK  1.86   1.59  1.56  1.89  49579200"
      ]
     },
     "execution_count": 18,
     "metadata": {},
     "output_type": "execute_result"
    }
   ],
   "source": [
    "df.loc[df.close == 1.59]"
   ]
  },
  {
   "cell_type": "code",
   "execution_count": 19,
   "metadata": {
    "ExecuteTime": {
     "end_time": "2020-07-16T05:16:34.171121Z",
     "start_time": "2020-07-16T05:16:34.101295Z"
    }
   },
   "outputs": [
    {
     "data": {
      "text/html": [
       "<div>\n",
       "<style scoped>\n",
       "    .dataframe tbody tr th:only-of-type {\n",
       "        vertical-align: middle;\n",
       "    }\n",
       "\n",
       "    .dataframe tbody tr th {\n",
       "        vertical-align: top;\n",
       "    }\n",
       "\n",
       "    .dataframe thead th {\n",
       "        text-align: right;\n",
       "    }\n",
       "</style>\n",
       "<table border=\"1\" class=\"dataframe\">\n",
       "  <thead>\n",
       "    <tr style=\"text-align: right;\">\n",
       "      <th></th>\n",
       "      <th>symbol</th>\n",
       "      <th>open</th>\n",
       "      <th>close</th>\n",
       "      <th>low</th>\n",
       "      <th>high</th>\n",
       "      <th>volume</th>\n",
       "    </tr>\n",
       "    <tr>\n",
       "      <th>date</th>\n",
       "      <th></th>\n",
       "      <th></th>\n",
       "      <th></th>\n",
       "      <th></th>\n",
       "      <th></th>\n",
       "      <th></th>\n",
       "    </tr>\n",
       "  </thead>\n",
       "  <tbody>\n",
       "    <tr>\n",
       "      <td>05-01-2016</td>\n",
       "      <td>WLTW</td>\n",
       "      <td>123.430000</td>\n",
       "      <td>125.839996</td>\n",
       "      <td>122.309998</td>\n",
       "      <td>126.250000</td>\n",
       "      <td>2163600</td>\n",
       "    </tr>\n",
       "    <tr>\n",
       "      <td>06-01-2016</td>\n",
       "      <td>WLTW</td>\n",
       "      <td>125.239998</td>\n",
       "      <td>119.980003</td>\n",
       "      <td>119.940002</td>\n",
       "      <td>125.540001</td>\n",
       "      <td>2386400</td>\n",
       "    </tr>\n",
       "    <tr>\n",
       "      <td>07-01-2016</td>\n",
       "      <td>WLTW</td>\n",
       "      <td>116.379997</td>\n",
       "      <td>114.949997</td>\n",
       "      <td>114.930000</td>\n",
       "      <td>119.739998</td>\n",
       "      <td>2489500</td>\n",
       "    </tr>\n",
       "    <tr>\n",
       "      <td>08-01-2016</td>\n",
       "      <td>WLTW</td>\n",
       "      <td>115.480003</td>\n",
       "      <td>116.620003</td>\n",
       "      <td>113.500000</td>\n",
       "      <td>117.440002</td>\n",
       "      <td>2006300</td>\n",
       "    </tr>\n",
       "    <tr>\n",
       "      <td>11-01-2016</td>\n",
       "      <td>WLTW</td>\n",
       "      <td>117.010002</td>\n",
       "      <td>114.970001</td>\n",
       "      <td>114.089996</td>\n",
       "      <td>117.330002</td>\n",
       "      <td>1408600</td>\n",
       "    </tr>\n",
       "    <tr>\n",
       "      <td>...</td>\n",
       "      <td>...</td>\n",
       "      <td>...</td>\n",
       "      <td>...</td>\n",
       "      <td>...</td>\n",
       "      <td>...</td>\n",
       "      <td>...</td>\n",
       "    </tr>\n",
       "    <tr>\n",
       "      <td>30-12-2016</td>\n",
       "      <td>WYN</td>\n",
       "      <td>76.849998</td>\n",
       "      <td>76.370003</td>\n",
       "      <td>76.180000</td>\n",
       "      <td>76.970001</td>\n",
       "      <td>524600</td>\n",
       "    </tr>\n",
       "    <tr>\n",
       "      <td>30-12-2016</td>\n",
       "      <td>WYNN</td>\n",
       "      <td>87.099998</td>\n",
       "      <td>86.510002</td>\n",
       "      <td>85.570000</td>\n",
       "      <td>87.449997</td>\n",
       "      <td>1888500</td>\n",
       "    </tr>\n",
       "    <tr>\n",
       "      <td>30-12-2016</td>\n",
       "      <td>XEC</td>\n",
       "      <td>136.520004</td>\n",
       "      <td>135.899994</td>\n",
       "      <td>135.309998</td>\n",
       "      <td>137.559998</td>\n",
       "      <td>466100</td>\n",
       "    </tr>\n",
       "    <tr>\n",
       "      <td>30-12-2016</td>\n",
       "      <td>XOM</td>\n",
       "      <td>90.029999</td>\n",
       "      <td>90.260002</td>\n",
       "      <td>90.010002</td>\n",
       "      <td>90.699997</td>\n",
       "      <td>9117800</td>\n",
       "    </tr>\n",
       "    <tr>\n",
       "      <td>30-12-2016</td>\n",
       "      <td>ZBH</td>\n",
       "      <td>103.309998</td>\n",
       "      <td>103.199997</td>\n",
       "      <td>102.849998</td>\n",
       "      <td>103.930000</td>\n",
       "      <td>973800</td>\n",
       "    </tr>\n",
       "  </tbody>\n",
       "</table>\n",
       "<p>278492 rows × 6 columns</p>\n",
       "</div>"
      ],
      "text/plain": [
       "           symbol        open       close         low        high   volume\n",
       "date                                                                      \n",
       "05-01-2016   WLTW  123.430000  125.839996  122.309998  126.250000  2163600\n",
       "06-01-2016   WLTW  125.239998  119.980003  119.940002  125.540001  2386400\n",
       "07-01-2016   WLTW  116.379997  114.949997  114.930000  119.739998  2489500\n",
       "08-01-2016   WLTW  115.480003  116.620003  113.500000  117.440002  2006300\n",
       "11-01-2016   WLTW  117.010002  114.970001  114.089996  117.330002  1408600\n",
       "...           ...         ...         ...         ...         ...      ...\n",
       "30-12-2016    WYN   76.849998   76.370003   76.180000   76.970001   524600\n",
       "30-12-2016   WYNN   87.099998   86.510002   85.570000   87.449997  1888500\n",
       "30-12-2016    XEC  136.520004  135.899994  135.309998  137.559998   466100\n",
       "30-12-2016    XOM   90.029999   90.260002   90.010002   90.699997  9117800\n",
       "30-12-2016    ZBH  103.309998  103.199997  102.849998  103.930000   973800\n",
       "\n",
       "[278492 rows x 6 columns]"
      ]
     },
     "execution_count": 19,
     "metadata": {},
     "output_type": "execute_result"
    }
   ],
   "source": [
    "df.loc[df.close >= 65]"
   ]
  },
  {
   "cell_type": "code",
   "execution_count": 20,
   "metadata": {
    "ExecuteTime": {
     "end_time": "2020-07-16T05:16:34.177098Z",
     "start_time": "2020-07-16T05:16:34.173102Z"
    }
   },
   "outputs": [
    {
     "data": {
      "text/plain": [
       "(851264, 6)"
      ]
     },
     "execution_count": 20,
     "metadata": {},
     "output_type": "execute_result"
    }
   ],
   "source": [
    "df.shape"
   ]
  },
  {
   "cell_type": "code",
   "execution_count": 21,
   "metadata": {
    "ExecuteTime": {
     "end_time": "2020-07-16T05:16:34.204021Z",
     "start_time": "2020-07-16T05:16:34.179087Z"
    }
   },
   "outputs": [
    {
     "data": {
      "application/javascript": [
       "\n",
       "        if (window._pyforest_update_imports_cell) { window._pyforest_update_imports_cell('import pandas as pd'); }\n",
       "    "
      ],
      "text/plain": [
       "<IPython.core.display.Javascript object>"
      ]
     },
     "metadata": {},
     "output_type": "display_data"
    },
    {
     "data": {
      "text/html": [
       "<div>\n",
       "<style scoped>\n",
       "    .dataframe tbody tr th:only-of-type {\n",
       "        vertical-align: middle;\n",
       "    }\n",
       "\n",
       "    .dataframe tbody tr th {\n",
       "        vertical-align: top;\n",
       "    }\n",
       "\n",
       "    .dataframe thead th {\n",
       "        text-align: right;\n",
       "    }\n",
       "</style>\n",
       "<table border=\"1\" class=\"dataframe\">\n",
       "  <thead>\n",
       "    <tr style=\"text-align: right;\">\n",
       "      <th></th>\n",
       "      <th>Ticker symbol</th>\n",
       "      <th>Security</th>\n",
       "      <th>SEC filings</th>\n",
       "      <th>GICS Sector</th>\n",
       "      <th>GICS Sub Industry</th>\n",
       "      <th>Address of Headquarters</th>\n",
       "      <th>Date first added</th>\n",
       "      <th>CIK</th>\n",
       "    </tr>\n",
       "  </thead>\n",
       "  <tbody>\n",
       "    <tr>\n",
       "      <td>0</td>\n",
       "      <td>MMM</td>\n",
       "      <td>3M Company</td>\n",
       "      <td>reports</td>\n",
       "      <td>Industrials</td>\n",
       "      <td>Industrial Conglomerates</td>\n",
       "      <td>St. Paul, Minnesota</td>\n",
       "      <td>NaN</td>\n",
       "      <td>66740</td>\n",
       "    </tr>\n",
       "    <tr>\n",
       "      <td>1</td>\n",
       "      <td>ABT</td>\n",
       "      <td>Abbott Laboratories</td>\n",
       "      <td>reports</td>\n",
       "      <td>Health Care</td>\n",
       "      <td>Health Care Equipment</td>\n",
       "      <td>North Chicago, Illinois</td>\n",
       "      <td>31-03-1964</td>\n",
       "      <td>1800</td>\n",
       "    </tr>\n",
       "    <tr>\n",
       "      <td>2</td>\n",
       "      <td>ABBV</td>\n",
       "      <td>AbbVie</td>\n",
       "      <td>reports</td>\n",
       "      <td>Health Care</td>\n",
       "      <td>Pharmaceuticals</td>\n",
       "      <td>North Chicago, Illinois</td>\n",
       "      <td>31-12-2012</td>\n",
       "      <td>1551152</td>\n",
       "    </tr>\n",
       "    <tr>\n",
       "      <td>3</td>\n",
       "      <td>ACN</td>\n",
       "      <td>Accenture plc</td>\n",
       "      <td>reports</td>\n",
       "      <td>Information Technology</td>\n",
       "      <td>IT Consulting &amp; Other Services</td>\n",
       "      <td>Dublin, Ireland</td>\n",
       "      <td>06-07-2011</td>\n",
       "      <td>1467373</td>\n",
       "    </tr>\n",
       "    <tr>\n",
       "      <td>4</td>\n",
       "      <td>ATVI</td>\n",
       "      <td>Activision Blizzard</td>\n",
       "      <td>reports</td>\n",
       "      <td>Information Technology</td>\n",
       "      <td>Home Entertainment Software</td>\n",
       "      <td>Santa Monica, California</td>\n",
       "      <td>31-08-2015</td>\n",
       "      <td>718877</td>\n",
       "    </tr>\n",
       "  </tbody>\n",
       "</table>\n",
       "</div>"
      ],
      "text/plain": [
       "  Ticker symbol             Security SEC filings             GICS Sector  \\\n",
       "0           MMM           3M Company     reports             Industrials   \n",
       "1           ABT  Abbott Laboratories     reports             Health Care   \n",
       "2          ABBV               AbbVie     reports             Health Care   \n",
       "3           ACN        Accenture plc     reports  Information Technology   \n",
       "4          ATVI  Activision Blizzard     reports  Information Technology   \n",
       "\n",
       "                GICS Sub Industry   Address of Headquarters Date first added  \\\n",
       "0        Industrial Conglomerates       St. Paul, Minnesota              NaN   \n",
       "1           Health Care Equipment   North Chicago, Illinois       31-03-1964   \n",
       "2                 Pharmaceuticals   North Chicago, Illinois       31-12-2012   \n",
       "3  IT Consulting & Other Services           Dublin, Ireland       06-07-2011   \n",
       "4     Home Entertainment Software  Santa Monica, California       31-08-2015   \n",
       "\n",
       "       CIK  \n",
       "0    66740  \n",
       "1     1800  \n",
       "2  1551152  \n",
       "3  1467373  \n",
       "4   718877  "
      ]
     },
     "execution_count": 21,
     "metadata": {},
     "output_type": "execute_result"
    }
   ],
   "source": [
    "sec = pd.read_csv('securities.csv')\n",
    "sec.head()"
   ]
  },
  {
   "cell_type": "code",
   "execution_count": 22,
   "metadata": {
    "ExecuteTime": {
     "end_time": "2020-07-16T05:16:34.219977Z",
     "start_time": "2020-07-16T05:16:34.206017Z"
    }
   },
   "outputs": [
    {
     "name": "stdout",
     "output_type": "stream",
     "text": [
      "<class 'pandas.core.frame.DataFrame'>\n",
      "RangeIndex: 505 entries, 0 to 504\n",
      "Data columns (total 8 columns):\n",
      "Ticker symbol              505 non-null object\n",
      "Security                   505 non-null object\n",
      "SEC filings                505 non-null object\n",
      "GICS Sector                505 non-null object\n",
      "GICS Sub Industry          505 non-null object\n",
      "Address of Headquarters    505 non-null object\n",
      "Date first added           307 non-null object\n",
      "CIK                        505 non-null int64\n",
      "dtypes: int64(1), object(7)\n",
      "memory usage: 31.7+ KB\n"
     ]
    }
   ],
   "source": [
    "sec.info()"
   ]
  },
  {
   "cell_type": "code",
   "execution_count": 23,
   "metadata": {
    "ExecuteTime": {
     "end_time": "2020-07-16T05:16:34.226959Z",
     "start_time": "2020-07-16T05:16:34.221973Z"
    }
   },
   "outputs": [
    {
     "data": {
      "text/plain": [
       "(505, 8)"
      ]
     },
     "execution_count": 23,
     "metadata": {},
     "output_type": "execute_result"
    }
   ],
   "source": [
    "sec.shape"
   ]
  },
  {
   "cell_type": "code",
   "execution_count": 24,
   "metadata": {
    "ExecuteTime": {
     "end_time": "2020-07-16T05:16:34.238927Z",
     "start_time": "2020-07-16T05:16:34.231947Z"
    }
   },
   "outputs": [],
   "source": [
    "sec.rename(columns={'Ticker symbol':'Ticker','SEC filings':'SEC_filings','GICS Sector':'Sector','GICS Sub Industry':'Sub_Industry','Address of Headquarters':'Headquarters','Date first added':'Date'}, inplace=True)"
   ]
  },
  {
   "cell_type": "code",
   "execution_count": 25,
   "metadata": {
    "ExecuteTime": {
     "end_time": "2020-07-16T05:16:34.253887Z",
     "start_time": "2020-07-16T05:16:34.240921Z"
    }
   },
   "outputs": [
    {
     "data": {
      "text/plain": [
       "HES     1\n",
       "BLL     1\n",
       "CAT     1\n",
       "DHI     1\n",
       "OMC     1\n",
       "       ..\n",
       "V       1\n",
       "GLW     1\n",
       "MTD     1\n",
       "CFG     1\n",
       "VRSN    1\n",
       "Name: Ticker, Length: 505, dtype: int64"
      ]
     },
     "execution_count": 25,
     "metadata": {},
     "output_type": "execute_result"
    }
   ],
   "source": [
    "sec.Ticker.value_counts()"
   ]
  },
  {
   "cell_type": "code",
   "execution_count": 26,
   "metadata": {
    "ExecuteTime": {
     "end_time": "2020-07-16T05:16:34.267851Z",
     "start_time": "2020-07-16T05:16:34.255884Z"
    }
   },
   "outputs": [
    {
     "data": {
      "text/plain": [
       "Under Armour             2\n",
       "Tegna, Inc.              1\n",
       "Monster Beverage         1\n",
       "Republic Services Inc    1\n",
       "Wells Fargo              1\n",
       "                        ..\n",
       "Electronic Arts          1\n",
       "Pinnacle West Capital    1\n",
       "HCA Holdings             1\n",
       "Patterson Companies      1\n",
       "Anthem Inc.              1\n",
       "Name: Security, Length: 504, dtype: int64"
      ]
     },
     "execution_count": 26,
     "metadata": {},
     "output_type": "execute_result"
    }
   ],
   "source": [
    "sec.Security.value_counts()"
   ]
  },
  {
   "cell_type": "code",
   "execution_count": 27,
   "metadata": {
    "ExecuteTime": {
     "end_time": "2020-07-16T05:16:34.276825Z",
     "start_time": "2020-07-16T05:16:34.269844Z"
    }
   },
   "outputs": [
    {
     "data": {
      "text/plain": [
       "Consumer Discretionary         85\n",
       "Industrials                    69\n",
       "Information Technology         68\n",
       "Financials                     64\n",
       "Health Care                    59\n",
       "Consumer Staples               37\n",
       "Energy                         36\n",
       "Real Estate                    29\n",
       "Utilities                      28\n",
       "Materials                      25\n",
       "Telecommunications Services     5\n",
       "Name: Sector, dtype: int64"
      ]
     },
     "execution_count": 27,
     "metadata": {},
     "output_type": "execute_result"
    }
   ],
   "source": [
    "sec.Sector.value_counts()"
   ]
  },
  {
   "cell_type": "code",
   "execution_count": 28,
   "metadata": {
    "ExecuteTime": {
     "end_time": "2020-07-16T05:16:34.306745Z",
     "start_time": "2020-07-16T05:16:34.280817Z"
    }
   },
   "outputs": [
    {
     "data": {
      "text/html": [
       "<div>\n",
       "<style scoped>\n",
       "    .dataframe tbody tr th:only-of-type {\n",
       "        vertical-align: middle;\n",
       "    }\n",
       "\n",
       "    .dataframe tbody tr th {\n",
       "        vertical-align: top;\n",
       "    }\n",
       "\n",
       "    .dataframe thead th {\n",
       "        text-align: right;\n",
       "    }\n",
       "</style>\n",
       "<table border=\"1\" class=\"dataframe\">\n",
       "  <thead>\n",
       "    <tr style=\"text-align: right;\">\n",
       "      <th></th>\n",
       "      <th>Ticker</th>\n",
       "      <th>Security</th>\n",
       "      <th>SEC_filings</th>\n",
       "      <th>Sector</th>\n",
       "      <th>Sub_Industry</th>\n",
       "      <th>Headquarters</th>\n",
       "      <th>Date</th>\n",
       "      <th>CIK</th>\n",
       "    </tr>\n",
       "  </thead>\n",
       "  <tbody>\n",
       "    <tr>\n",
       "      <td>3</td>\n",
       "      <td>ACN</td>\n",
       "      <td>Accenture plc</td>\n",
       "      <td>reports</td>\n",
       "      <td>Information Technology</td>\n",
       "      <td>IT Consulting &amp; Other Services</td>\n",
       "      <td>Dublin, Ireland</td>\n",
       "      <td>06-07-2011</td>\n",
       "      <td>1467373</td>\n",
       "    </tr>\n",
       "    <tr>\n",
       "      <td>4</td>\n",
       "      <td>ATVI</td>\n",
       "      <td>Activision Blizzard</td>\n",
       "      <td>reports</td>\n",
       "      <td>Information Technology</td>\n",
       "      <td>Home Entertainment Software</td>\n",
       "      <td>Santa Monica, California</td>\n",
       "      <td>31-08-2015</td>\n",
       "      <td>718877</td>\n",
       "    </tr>\n",
       "    <tr>\n",
       "      <td>6</td>\n",
       "      <td>ADBE</td>\n",
       "      <td>Adobe Systems Inc</td>\n",
       "      <td>reports</td>\n",
       "      <td>Information Technology</td>\n",
       "      <td>Application Software</td>\n",
       "      <td>San Jose, California</td>\n",
       "      <td>05-05-1997</td>\n",
       "      <td>796343</td>\n",
       "    </tr>\n",
       "    <tr>\n",
       "      <td>14</td>\n",
       "      <td>AKAM</td>\n",
       "      <td>Akamai Technologies Inc</td>\n",
       "      <td>reports</td>\n",
       "      <td>Information Technology</td>\n",
       "      <td>Internet Software &amp; Services</td>\n",
       "      <td>Cambridge, Massachusetts</td>\n",
       "      <td>12-07-2007</td>\n",
       "      <td>1086222</td>\n",
       "    </tr>\n",
       "    <tr>\n",
       "      <td>20</td>\n",
       "      <td>ADS</td>\n",
       "      <td>Alliance Data Systems</td>\n",
       "      <td>reports</td>\n",
       "      <td>Information Technology</td>\n",
       "      <td>Data Processing &amp; Outsourced Services</td>\n",
       "      <td>Plano, Texas</td>\n",
       "      <td>23-12-2013</td>\n",
       "      <td>1101215</td>\n",
       "    </tr>\n",
       "    <tr>\n",
       "      <td>...</td>\n",
       "      <td>...</td>\n",
       "      <td>...</td>\n",
       "      <td>...</td>\n",
       "      <td>...</td>\n",
       "      <td>...</td>\n",
       "      <td>...</td>\n",
       "      <td>...</td>\n",
       "      <td>...</td>\n",
       "    </tr>\n",
       "    <tr>\n",
       "      <td>485</td>\n",
       "      <td>WDC</td>\n",
       "      <td>Western Digital</td>\n",
       "      <td>reports</td>\n",
       "      <td>Information Technology</td>\n",
       "      <td>Computer Storage &amp; Peripherals</td>\n",
       "      <td>Irvine, California</td>\n",
       "      <td>01-07-2009</td>\n",
       "      <td>106040</td>\n",
       "    </tr>\n",
       "    <tr>\n",
       "      <td>486</td>\n",
       "      <td>WU</td>\n",
       "      <td>Western Union Co</td>\n",
       "      <td>reports</td>\n",
       "      <td>Information Technology</td>\n",
       "      <td>Internet Software &amp; Services</td>\n",
       "      <td>Englewood, Colorado</td>\n",
       "      <td>NaN</td>\n",
       "      <td>1365135</td>\n",
       "    </tr>\n",
       "    <tr>\n",
       "      <td>496</td>\n",
       "      <td>XRX</td>\n",
       "      <td>Xerox Corp.</td>\n",
       "      <td>reports</td>\n",
       "      <td>Information Technology</td>\n",
       "      <td>IT Consulting &amp; Other Services</td>\n",
       "      <td>Norwalk, Connecticut</td>\n",
       "      <td>NaN</td>\n",
       "      <td>108772</td>\n",
       "    </tr>\n",
       "    <tr>\n",
       "      <td>497</td>\n",
       "      <td>XLNX</td>\n",
       "      <td>Xilinx Inc</td>\n",
       "      <td>reports</td>\n",
       "      <td>Information Technology</td>\n",
       "      <td>Semiconductors</td>\n",
       "      <td>San Jose, California</td>\n",
       "      <td>NaN</td>\n",
       "      <td>743988</td>\n",
       "    </tr>\n",
       "    <tr>\n",
       "      <td>500</td>\n",
       "      <td>YHOO</td>\n",
       "      <td>Yahoo Inc.</td>\n",
       "      <td>reports</td>\n",
       "      <td>Information Technology</td>\n",
       "      <td>Internet Software &amp; Services</td>\n",
       "      <td>Sunnyvale, California</td>\n",
       "      <td>NaN</td>\n",
       "      <td>1011006</td>\n",
       "    </tr>\n",
       "  </tbody>\n",
       "</table>\n",
       "<p>68 rows × 8 columns</p>\n",
       "</div>"
      ],
      "text/plain": [
       "    Ticker                 Security SEC_filings                  Sector  \\\n",
       "3      ACN            Accenture plc     reports  Information Technology   \n",
       "4     ATVI      Activision Blizzard     reports  Information Technology   \n",
       "6     ADBE        Adobe Systems Inc     reports  Information Technology   \n",
       "14    AKAM  Akamai Technologies Inc     reports  Information Technology   \n",
       "20     ADS    Alliance Data Systems     reports  Information Technology   \n",
       "..     ...                      ...         ...                     ...   \n",
       "485    WDC          Western Digital     reports  Information Technology   \n",
       "486     WU         Western Union Co     reports  Information Technology   \n",
       "496    XRX              Xerox Corp.     reports  Information Technology   \n",
       "497   XLNX               Xilinx Inc     reports  Information Technology   \n",
       "500   YHOO               Yahoo Inc.     reports  Information Technology   \n",
       "\n",
       "                              Sub_Industry              Headquarters  \\\n",
       "3           IT Consulting & Other Services           Dublin, Ireland   \n",
       "4              Home Entertainment Software  Santa Monica, California   \n",
       "6                     Application Software      San Jose, California   \n",
       "14            Internet Software & Services  Cambridge, Massachusetts   \n",
       "20   Data Processing & Outsourced Services              Plano, Texas   \n",
       "..                                     ...                       ...   \n",
       "485         Computer Storage & Peripherals        Irvine, California   \n",
       "486           Internet Software & Services       Englewood, Colorado   \n",
       "496         IT Consulting & Other Services      Norwalk, Connecticut   \n",
       "497                         Semiconductors      San Jose, California   \n",
       "500           Internet Software & Services     Sunnyvale, California   \n",
       "\n",
       "           Date      CIK  \n",
       "3    06-07-2011  1467373  \n",
       "4    31-08-2015   718877  \n",
       "6    05-05-1997   796343  \n",
       "14   12-07-2007  1086222  \n",
       "20   23-12-2013  1101215  \n",
       "..          ...      ...  \n",
       "485  01-07-2009   106040  \n",
       "486         NaN  1365135  \n",
       "496         NaN   108772  \n",
       "497         NaN   743988  \n",
       "500         NaN  1011006  \n",
       "\n",
       "[68 rows x 8 columns]"
      ]
     },
     "execution_count": 28,
     "metadata": {},
     "output_type": "execute_result"
    }
   ],
   "source": [
    "sec.loc[sec.Sector == 'Information Technology']"
   ]
  },
  {
   "cell_type": "code",
   "execution_count": 29,
   "metadata": {
    "ExecuteTime": {
     "end_time": "2020-07-16T05:16:34.324697Z",
     "start_time": "2020-07-16T05:16:34.308740Z"
    }
   },
   "outputs": [
    {
     "name": "stdout",
     "output_type": "stream",
     "text": [
      "6      ADBE\n",
      "181      FB\n",
      "212      GS\n",
      "306    MSFT\n",
      "496     XRX\n",
      "500    YHOO\n",
      "Name: Ticker, dtype: object\n"
     ]
    }
   ],
   "source": [
    "comp_plot = sec.loc[(sec[\"Security\"] == 'Yahoo Inc.') | (sec[\"Security\"] == 'Xerox Corp.') | (sec[\"Security\"] == 'Adobe Systems Inc')\n",
    "              | (sec[\"Security\"] == 'Microsoft Corp.') | (sec[\"Security\"] == 'Adobe Systems Inc') \n",
    "              | (sec[\"Security\"] == 'Facebook') | (sec[\"Security\"] == 'Goldman Sachs Group') , [\"Ticker\"] ][\"Ticker\"] \n",
    "print(comp_plot)"
   ]
  },
  {
   "cell_type": "code",
   "execution_count": 30,
   "metadata": {
    "ExecuteTime": {
     "end_time": "2020-07-16T05:16:39.318432Z",
     "start_time": "2020-07-16T05:16:34.326693Z"
    }
   },
   "outputs": [
    {
     "data": {
      "image/png": "[encoded data removed]",
      "text/plain": [
       "<Figure size 576x576 with 2 Axes>"
      ]
     },
     "metadata": {
      "needs_background": "light"
     },
     "output_type": "display_data"
    },
    {
     "data": {
      "image/png": "[encoded data removed]",
      "text/plain": [
       "<Figure size 576x576 with 2 Axes>"
      ]
     },
     "metadata": {
      "needs_background": "light"
     },
     "output_type": "display_data"
    },
    {
     "data": {
      "image/png": "[encoded data removed]",
      "text/plain": [
       "<Figure size 576x576 with 2 Axes>"
      ]
     },
     "metadata": {
      "needs_background": "light"
     },
     "output_type": "display_data"
    },
    {
     "data": {
      "image/png": "[encoded data removed]",
      "text/plain": [
       "<Figure size 576x576 with 2 Axes>"
      ]
     },
     "metadata": {
      "needs_background": "light"
     },
     "output_type": "display_data"
    },
    {
     "data": {
      "image/png": "[encoded data removed]",
      "text/plain": [
       "<Figure size 576x576 with 2 Axes>"
      ]
     },
     "metadata": {
      "needs_background": "light"
     },
     "output_type": "display_data"
    },
    {
     "data": {
      "image/png": "[encoded data removed]",
      "text/plain": [
       "<Figure size 576x576 with 2 Axes>"
      ]
     },
     "metadata": {
      "needs_background": "light"
     },
     "output_type": "display_data"
    }
   ],
   "source": [
    "def plotter(code):\n",
    "    global closing_stock\n",
    "    global opening_stock\n",
    "    f, axs = plt.subplots(2,2,figsize=(8,8))\n",
    "    plt.subplot(212)\n",
    "    company = df[df['symbol']==code]\n",
    "    company = company.open.values.astype('float32')\n",
    "    company = company.reshape(-1,1)\n",
    "    opening_stock = company\n",
    "    plt.grid(True)\n",
    "    plt.xlabel('Time')\n",
    "    plt.ylabel(code + 'open stock prices')\n",
    "    plt.title('Price vs Time')\n",
    "    plt.plot(company, 'g')\n",
    "    \n",
    "    plt.subplot(211)\n",
    "    company_close = df[df['symbol']==code]\n",
    "    company_close = company_close.close.values.astype('float32')\n",
    "    company_close = company_close.reshape(-1, 1)\n",
    "    closing_stock = company_close\n",
    "    plt.xlabel('Time')\n",
    "    plt.ylabel(code + \" close stock prices\")\n",
    "    plt.title('Prices Vs Time')\n",
    "    plt.grid(True)\n",
    "    plt.plot(company_close , 'b')\n",
    "    plt.show()\n",
    "for i in comp_plot:\n",
    "    plotter(i)"
   ]
  },
  {
   "cell_type": "code",
   "execution_count": 31,
   "metadata": {
    "ExecuteTime": {
     "end_time": "2020-07-16T05:16:39.330394Z",
     "start_time": "2020-07-16T05:16:39.320419Z"
    }
   },
   "outputs": [
    {
     "name": "stdout",
     "output_type": "stream",
     "text": [
      "[17.1  17.23 17.17 ... 38.73 38.64 38.67]\n"
     ]
    }
   ],
   "source": [
    "stocks = closing_stock[: , 0]\n",
    "print(stocks)\n",
    "stocks = stocks.reshape(len(stocks) , 1)"
   ]
  },
  {
   "cell_type": "code",
   "execution_count": 32,
   "metadata": {
    "ExecuteTime": {
     "end_time": "2020-07-16T05:16:39.342400Z",
     "start_time": "2020-07-16T05:16:39.336378Z"
    }
   },
   "outputs": [],
   "source": [
    "from sklearn.preprocessing import MinMaxScaler\n",
    "scaler = MinMaxScaler(feature_range=(0,1))\n",
    "stocks = scaler.fit_transform(stocks)"
   ]
  },
  {
   "cell_type": "code",
   "execution_count": 33,
   "metadata": {
    "ExecuteTime": {
     "end_time": "2020-07-16T05:16:39.351336Z",
     "start_time": "2020-07-16T05:16:39.345354Z"
    }
   },
   "outputs": [],
   "source": [
    "train = int(len(stocks) *0.8)\n",
    "test = len(stocks) - train"
   ]
  },
  {
   "cell_type": "code",
   "execution_count": 34,
   "metadata": {
    "ExecuteTime": {
     "end_time": "2020-07-16T05:16:39.362308Z",
     "start_time": "2020-07-16T05:16:39.355329Z"
    }
   },
   "outputs": [
    {
     "name": "stdout",
     "output_type": "stream",
     "text": [
      "1409 353\n"
     ]
    }
   ],
   "source": [
    "print(train, test)"
   ]
  },
  {
   "cell_type": "code",
   "execution_count": 35,
   "metadata": {
    "ExecuteTime": {
     "end_time": "2020-07-16T05:16:39.370285Z",
     "start_time": "2020-07-16T05:16:39.363306Z"
    }
   },
   "outputs": [
    {
     "name": "stdout",
     "output_type": "stream",
     "text": [
      "[[0.14559111]\n",
      " [0.14874032]\n",
      " [0.14728683]\n",
      " ...\n",
      " [0.63372093]\n",
      " [0.6145833 ]\n",
      " [0.6196705 ]]\n"
     ]
    }
   ],
   "source": [
    "train = stocks[0:train]\n",
    "print(train)"
   ]
  },
  {
   "cell_type": "code",
   "execution_count": 36,
   "metadata": {
    "ExecuteTime": {
     "end_time": "2020-07-16T05:16:39.376284Z",
     "start_time": "2020-07-16T05:16:39.371283Z"
    }
   },
   "outputs": [],
   "source": [
    "test = stocks[len(train):]"
   ]
  },
  {
   "cell_type": "code",
   "execution_count": 37,
   "metadata": {
    "ExecuteTime": {
     "end_time": "2020-07-16T05:16:39.386245Z",
     "start_time": "2020-07-16T05:16:39.379264Z"
    }
   },
   "outputs": [],
   "source": [
    "train = train.reshape(len(train), 1)\n",
    "test = test.reshape(len(test), 1)"
   ]
  },
  {
   "cell_type": "code",
   "execution_count": 38,
   "metadata": {
    "ExecuteTime": {
     "end_time": "2020-07-16T05:16:39.396217Z",
     "start_time": "2020-07-16T05:16:39.389236Z"
    }
   },
   "outputs": [
    {
     "name": "stdout",
     "output_type": "stream",
     "text": [
      "(1409, 1)\n",
      "(353, 1)\n"
     ]
    }
   ],
   "source": [
    "print(train.shape)\n",
    "print(test.shape)"
   ]
  },
  {
   "cell_type": "code",
   "execution_count": 39,
   "metadata": {
    "ExecuteTime": {
     "end_time": "2020-07-16T05:16:39.407197Z",
     "start_time": "2020-07-16T05:16:39.399209Z"
    }
   },
   "outputs": [],
   "source": [
    "def process_data(data, n_features):\n",
    "    dataX, dataY = [], []\n",
    "    for i in range(len(data)-n_features):\n",
    "        a = data[i:(i+n_features), 0]\n",
    "        dataX.append(a)\n",
    "        dataY.append(data[i+n_features, 0])\n",
    "    return np.array(dataX), np.array(dataY)"
   ]
  },
  {
   "cell_type": "code",
   "execution_count": 40,
   "metadata": {
    "ExecuteTime": {
     "end_time": "2020-07-16T05:16:39.431124Z",
     "start_time": "2020-07-16T05:16:39.411177Z"
    }
   },
   "outputs": [
    {
     "data": {
      "application/javascript": [
       "\n",
       "        if (window._pyforest_update_imports_cell) { window._pyforest_update_imports_cell('import pandas as pd\\nimport numpy as np'); }\n",
       "    "
      ],
      "text/plain": [
       "<IPython.core.display.Javascript object>"
      ]
     },
     "metadata": {},
     "output_type": "display_data"
    },
    {
     "data": {
      "application/javascript": [
       "\n",
       "        if (window._pyforest_update_imports_cell) { window._pyforest_update_imports_cell('import pandas as pd\\nimport numpy as np'); }\n",
       "    "
      ],
      "text/plain": [
       "<IPython.core.display.Javascript object>"
      ]
     },
     "metadata": {},
     "output_type": "display_data"
    },
    {
     "data": {
      "application/javascript": [
       "\n",
       "        if (window._pyforest_update_imports_cell) { window._pyforest_update_imports_cell('import pandas as pd\\nimport numpy as np'); }\n",
       "    "
      ],
      "text/plain": [
       "<IPython.core.display.Javascript object>"
      ]
     },
     "metadata": {},
     "output_type": "display_data"
    },
    {
     "data": {
      "application/javascript": [
       "\n",
       "        if (window._pyforest_update_imports_cell) { window._pyforest_update_imports_cell('import pandas as pd\\nimport numpy as np'); }\n",
       "    "
      ],
      "text/plain": [
       "<IPython.core.display.Javascript object>"
      ]
     },
     "metadata": {},
     "output_type": "display_data"
    }
   ],
   "source": [
    "n_features=2\n",
    "trainX, trainY = process_data(train, n_features)\n",
    "testX, testY = process_data(test, n_features)"
   ]
  },
  {
   "cell_type": "code",
   "execution_count": 41,
   "metadata": {
    "ExecuteTime": {
     "end_time": "2020-07-16T05:16:39.442100Z",
     "start_time": "2020-07-16T05:16:39.433118Z"
    }
   },
   "outputs": [
    {
     "name": "stdout",
     "output_type": "stream",
     "text": [
      "(1407, 2) (1407,) (351, 2) (351,)\n"
     ]
    }
   ],
   "source": [
    "print(trainX.shape, trainY.shape, testX.shape, testY.shape)"
   ]
  },
  {
   "cell_type": "code",
   "execution_count": 42,
   "metadata": {
    "ExecuteTime": {
     "end_time": "2020-07-16T05:16:39.452068Z",
     "start_time": "2020-07-16T05:16:39.446084Z"
    }
   },
   "outputs": [],
   "source": [
    "trainX = trainX.reshape(trainX.shape[0],1, trainX.shape[1])\n",
    "testX = testX.reshape(testX.shape[0],1, testX.shape[1])"
   ]
  },
  {
   "cell_type": "code",
   "execution_count": 43,
   "metadata": {
    "ExecuteTime": {
     "end_time": "2020-07-16T05:16:39.460046Z",
     "start_time": "2020-07-16T05:16:39.454062Z"
    }
   },
   "outputs": [],
   "source": [
    "from sklearn.metrics import mean_squared_error\n",
    "from keras.optimizers import Adam , SGD , RMSprop"
   ]
  },
  {
   "cell_type": "code",
   "execution_count": 44,
   "metadata": {
    "ExecuteTime": {
     "end_time": "2020-07-16T05:16:39.470020Z",
     "start_time": "2020-07-16T05:16:39.462042Z"
    }
   },
   "outputs": [],
   "source": [
    "filepath = 'stock_weights.hdf5'\n",
    "from keras.callbacks import ReduceLROnPlateau, ModelCheckpoint\n",
    "lr_reduce = ReduceLROnPlateau(monitor='val_loss', factor=0.1, epsilon=0.0001, patience=1, verbose=1)\n",
    "checkpoint = ModelCheckpoint(filepath, monitor='val_loss', verbose=1, save_best_only=True, mode='max')"
   ]
  },
  {
   "cell_type": "code",
   "execution_count": 45,
   "metadata": {
    "ExecuteTime": {
     "end_time": "2020-07-16T05:16:40.067421Z",
     "start_time": "2020-07-16T05:16:39.472014Z"
    }
   },
   "outputs": [
    {
     "name": "stdout",
     "output_type": "stream",
     "text": [
      "Model: \"sequential_1\"\n",
      "_________________________________________________________________\n",
      "Layer (type)                 Output Shape              Param #   \n",
      "=================================================================\n",
      "gru_1 (GRU)                  (None, 1, 256)            198912    \n",
      "_________________________________________________________________\n",
      "dropout_1 (Dropout)          (None, 1, 256)            0         \n",
      "_________________________________________________________________\n",
      "lstm_1 (LSTM)                (None, 256)               525312    \n",
      "_________________________________________________________________\n",
      "dropout_2 (Dropout)          (None, 256)               0         \n",
      "_________________________________________________________________\n",
      "dense_1 (Dense)              (None, 64)                16448     \n",
      "_________________________________________________________________\n",
      "dense_2 (Dense)              (None, 1)                 65        \n",
      "=================================================================\n",
      "Total params: 740,737\n",
      "Trainable params: 740,737\n",
      "Non-trainable params: 0\n",
      "_________________________________________________________________\n",
      "None\n"
     ]
    }
   ],
   "source": [
    "from keras.layers import GRU,BatchNormalization\n",
    "model = Sequential()\n",
    "model.add(GRU(256, input_shape=(1, n_features), return_sequences=True))\n",
    "model.add(Dropout(0.4))\n",
    "model.add(LSTM(256))\n",
    "model.add(Dropout(0.4))\n",
    "model.add(Dense(64, activation='relu'))\n",
    "model.add(Dense(1))\n",
    "print(model.summary())"
   ]
  },
  {
   "cell_type": "code",
   "execution_count": 46,
   "metadata": {
    "ExecuteTime": {
     "end_time": "2020-07-16T05:16:40.107316Z",
     "start_time": "2020-07-16T05:16:40.069416Z"
    }
   },
   "outputs": [],
   "source": [
    "model.compile(loss='mean_squared_error', optimizer=Adam(lr = 0.0005), metrics=['mean_squared_error'])"
   ]
  },
  {
   "cell_type": "code",
   "execution_count": 47,
   "metadata": {
    "ExecuteTime": {
     "end_time": "2020-07-16T05:17:17.395134Z",
     "start_time": "2020-07-16T05:16:40.111305Z"
    }
   },
   "outputs": [
    {
     "name": "stdout",
     "output_type": "stream",
     "text": [
      "Train on 1407 samples, validate on 351 samples\n",
      "Epoch 1/100\n",
      "1407/1407 [==============================] - 1s 855us/step - loss: 0.1453 - mean_squared_error: 0.1453 - val_loss: 0.1725 - val_mean_squared_error: 0.1725\n",
      "\n",
      "Epoch 00001: val_loss improved from -inf to 0.17249, saving model to stock_weights.hdf5\n",
      "Epoch 2/100\n",
      "1407/1407 [==============================] - 0s 198us/step - loss: 0.0411 - mean_squared_error: 0.0411 - val_loss: 0.0018 - val_mean_squared_error: 0.0018\n",
      "\n",
      "Epoch 00002: val_loss did not improve from 0.17249\n",
      "Epoch 3/100\n",
      "1407/1407 [==============================] - 0s 236us/step - loss: 0.0183 - mean_squared_error: 0.0183 - val_loss: 0.0011 - val_mean_squared_error: 0.0011\n",
      "\n",
      "Epoch 00003: val_loss did not improve from 0.17249\n",
      "Epoch 4/100\n",
      "1407/1407 [==============================] - 0s 211us/step - loss: 0.0083 - mean_squared_error: 0.0083 - val_loss: 0.0103 - val_mean_squared_error: 0.0103\n",
      "\n",
      "Epoch 00004: val_loss did not improve from 0.17249\n",
      "\n",
      "Epoch 00004: ReduceLROnPlateau reducing learning rate to 5.0000002374872565e-05.\n",
      "Epoch 5/100\n",
      "1407/1407 [==============================] - 0s 220us/step - loss: 0.0073 - mean_squared_error: 0.0073 - val_loss: 0.0079 - val_mean_squared_error: 0.0079\n",
      "\n",
      "Epoch 00005: val_loss did not improve from 0.17249\n",
      "\n",
      "Epoch 00005: ReduceLROnPlateau reducing learning rate to 5.000000237487257e-06.\n",
      "Epoch 6/100\n",
      "1407/1407 [==============================] - 0s 201us/step - loss: 0.0065 - mean_squared_error: 0.0065 - val_loss: 0.0075 - val_mean_squared_error: 0.0075\n",
      "\n",
      "Epoch 00006: val_loss did not improve from 0.17249\n",
      "\n",
      "Epoch 00006: ReduceLROnPlateau reducing learning rate to 5.000000328436726e-07.\n",
      "Epoch 7/100\n",
      "1407/1407 [==============================] - 0s 255us/step - loss: 0.0066 - mean_squared_error: 0.0066 - val_loss: 0.0075 - val_mean_squared_error: 0.0075\n",
      "\n",
      "Epoch 00007: val_loss did not improve from 0.17249\n",
      "\n",
      "Epoch 00007: ReduceLROnPlateau reducing learning rate to 5.000000555810402e-08.\n",
      "Epoch 8/100\n",
      "1407/1407 [==============================] - 0s 277us/step - loss: 0.0065 - mean_squared_error: 0.0065 - val_loss: 0.0075 - val_mean_squared_error: 0.0075\n",
      "\n",
      "Epoch 00008: val_loss did not improve from 0.17249\n",
      "\n",
      "Epoch 00008: ReduceLROnPlateau reducing learning rate to 5.000000413701855e-09.\n",
      "Epoch 9/100\n",
      "1407/1407 [==============================] - 0s 260us/step - loss: 0.0069 - mean_squared_error: 0.0069 - val_loss: 0.0075 - val_mean_squared_error: 0.0075\n",
      "\n",
      "Epoch 00009: val_loss did not improve from 0.17249\n",
      "\n",
      "Epoch 00009: ReduceLROnPlateau reducing learning rate to 5.000000413701855e-10.\n",
      "Epoch 10/100\n",
      "1407/1407 [==============================] - 0s 244us/step - loss: 0.0066 - mean_squared_error: 0.0066 - val_loss: 0.0075 - val_mean_squared_error: 0.0075\n",
      "\n",
      "Epoch 00010: val_loss did not improve from 0.17249\n",
      "\n",
      "Epoch 00010: ReduceLROnPlateau reducing learning rate to 5.000000413701855e-11.\n",
      "Epoch 11/100\n",
      "1407/1407 [==============================] - 0s 209us/step - loss: 0.0068 - mean_squared_error: 0.0068 - val_loss: 0.0075 - val_mean_squared_error: 0.0075\n",
      "\n",
      "Epoch 00011: val_loss did not improve from 0.17249\n",
      "\n",
      "Epoch 00011: ReduceLROnPlateau reducing learning rate to 5.000000413701855e-12.\n",
      "Epoch 12/100\n",
      "1407/1407 [==============================] - 0s 233us/step - loss: 0.0069 - mean_squared_error: 0.0069 - val_loss: 0.0075 - val_mean_squared_error: 0.0075\n",
      "\n",
      "Epoch 00012: val_loss did not improve from 0.17249\n",
      "\n",
      "Epoch 00012: ReduceLROnPlateau reducing learning rate to 5.000000413701855e-13.\n",
      "Epoch 13/100\n",
      "1407/1407 [==============================] - 0s 219us/step - loss: 0.0065 - mean_squared_error: 0.0065 - val_loss: 0.0075 - val_mean_squared_error: 0.0075\n",
      "\n",
      "Epoch 00013: val_loss did not improve from 0.17249\n",
      "\n",
      "Epoch 00013: ReduceLROnPlateau reducing learning rate to 5.0000005221220725e-14.\n",
      "Epoch 14/100\n",
      "1407/1407 [==============================] - 0s 239us/step - loss: 0.0067 - mean_squared_error: 0.0067 - val_loss: 0.0075 - val_mean_squared_error: 0.0075\n",
      "\n",
      "Epoch 00014: val_loss did not improve from 0.17249\n",
      "\n",
      "Epoch 00014: ReduceLROnPlateau reducing learning rate to 5.000000589884709e-15.\n",
      "Epoch 15/100\n",
      "1407/1407 [==============================] - 0s 230us/step - loss: 0.0066 - mean_squared_error: 0.0066 - val_loss: 0.0075 - val_mean_squared_error: 0.0075\n",
      "\n",
      "Epoch 00015: val_loss did not improve from 0.17249\n",
      "\n",
      "Epoch 00015: ReduceLROnPlateau reducing learning rate to 5.000000759291298e-16.\n",
      "Epoch 16/100\n",
      "1407/1407 [==============================] - 0s 221us/step - loss: 0.0070 - mean_squared_error: 0.0070 - val_loss: 0.0075 - val_mean_squared_error: 0.0075\n",
      "\n",
      "Epoch 00016: val_loss did not improve from 0.17249\n",
      "\n",
      "Epoch 00016: ReduceLROnPlateau reducing learning rate to 5.000000547533061e-17.\n",
      "Epoch 17/100\n",
      "1407/1407 [==============================] - 0s 231us/step - loss: 0.0064 - mean_squared_error: 0.0064 - val_loss: 0.0075 - val_mean_squared_error: 0.0075\n",
      "\n",
      "Epoch 00017: val_loss did not improve from 0.17249\n",
      "\n",
      "Epoch 00017: ReduceLROnPlateau reducing learning rate to 5.000000415184163e-18.\n",
      "Epoch 18/100\n",
      "1407/1407 [==============================] - 0s 206us/step - loss: 0.0068 - mean_squared_error: 0.0068 - val_loss: 0.0075 - val_mean_squared_error: 0.0075\n",
      "\n",
      "Epoch 00018: val_loss did not improve from 0.17249\n",
      "\n",
      "Epoch 00018: ReduceLROnPlateau reducing learning rate to 5.000000332466102e-19.\n",
      "Epoch 19/100\n",
      "1407/1407 [==============================] - 0s 218us/step - loss: 0.0063 - mean_squared_error: 0.0063 - val_loss: 0.0075 - val_mean_squared_error: 0.0075\n",
      "\n",
      "Epoch 00019: val_loss did not improve from 0.17249\n",
      "\n",
      "Epoch 00019: ReduceLROnPlateau reducing learning rate to 5.000000229068525e-20.\n",
      "Epoch 20/100\n",
      "1407/1407 [==============================] - 0s 205us/step - loss: 0.0067 - mean_squared_error: 0.0067 - val_loss: 0.0075 - val_mean_squared_error: 0.0075\n",
      "\n",
      "Epoch 00020: val_loss did not improve from 0.17249\n",
      "\n",
      "Epoch 00020: ReduceLROnPlateau reducing learning rate to 5.00000016444504e-21.\n",
      "Epoch 21/100\n",
      "1407/1407 [==============================] - 0s 225us/step - loss: 0.0062 - mean_squared_error: 0.0062 - val_loss: 0.0075 - val_mean_squared_error: 0.0075\n",
      "\n",
      "Epoch 00021: val_loss did not improve from 0.17249\n",
      "\n",
      "Epoch 00021: ReduceLROnPlateau reducing learning rate to 5.000000245224397e-22.\n",
      "Epoch 22/100\n",
      "1407/1407 [==============================] - 0s 230us/step - loss: 0.0067 - mean_squared_error: 0.0067 - val_loss: 0.0075 - val_mean_squared_error: 0.0075\n",
      "\n",
      "Epoch 00022: val_loss did not improve from 0.17249\n",
      "\n",
      "Epoch 00022: ReduceLROnPlateau reducing learning rate to 5.0000003461985925e-23.\n",
      "Epoch 23/100\n",
      "1407/1407 [==============================] - 0s 197us/step - loss: 0.0065 - mean_squared_error: 0.0065 - val_loss: 0.0075 - val_mean_squared_error: 0.0075\n",
      "\n",
      "Epoch 00023: val_loss did not improve from 0.17249\n",
      "\n",
      "Epoch 00023: ReduceLROnPlateau reducing learning rate to 5.000000472416337e-24.\n",
      "Epoch 24/100\n",
      "1407/1407 [==============================] - 0s 219us/step - loss: 0.0065 - mean_squared_error: 0.0065 - val_loss: 0.0075 - val_mean_squared_error: 0.0075\n",
      "\n",
      "Epoch 00024: val_loss did not improve from 0.17249\n",
      "\n",
      "Epoch 00024: ReduceLROnPlateau reducing learning rate to 5.000000393530247e-25.\n",
      "Epoch 25/100\n",
      "1407/1407 [==============================] - 0s 189us/step - loss: 0.0068 - mean_squared_error: 0.0068 - val_loss: 0.0075 - val_mean_squared_error: 0.0075\n",
      "\n",
      "Epoch 00025: val_loss did not improve from 0.17249\n",
      "\n",
      "Epoch 00025: ReduceLROnPlateau reducing learning rate to 5.000000590745473e-26.\n",
      "Epoch 26/100\n",
      "1407/1407 [==============================] - 0s 198us/step - loss: 0.0068 - mean_squared_error: 0.0068 - val_loss: 0.0075 - val_mean_squared_error: 0.0075\n",
      "\n",
      "Epoch 00026: val_loss did not improve from 0.17249\n",
      "\n",
      "Epoch 00026: ReduceLROnPlateau reducing learning rate to 5.000000714004989e-27.\n",
      "Epoch 27/100\n",
      "1407/1407 [==============================] - 0s 208us/step - loss: 0.0067 - mean_squared_error: 0.0067 - val_loss: 0.0075 - val_mean_squared_error: 0.0075\n",
      "\n",
      "Epoch 00027: val_loss did not improve from 0.17249\n",
      "\n",
      "Epoch 00027: ReduceLROnPlateau reducing learning rate to 5.00000071400499e-28.\n",
      "Epoch 28/100\n",
      "1407/1407 [==============================] - 0s 220us/step - loss: 0.0070 - mean_squared_error: 0.0070 - val_loss: 0.0075 - val_mean_squared_error: 0.0075\n",
      "\n",
      "Epoch 00028: val_loss did not improve from 0.17249\n",
      "\n",
      "Epoch 00028: ReduceLROnPlateau reducing learning rate to 5.000000617708492e-29.\n",
      "Epoch 29/100\n"
     ]
    },
    {
     "name": "stdout",
     "output_type": "stream",
     "text": [
      "1407/1407 [==============================] - 0s 211us/step - loss: 0.0062 - mean_squared_error: 0.0062 - val_loss: 0.0075 - val_mean_squared_error: 0.0075\n",
      "\n",
      "Epoch 00029: val_loss did not improve from 0.17249\n",
      "\n",
      "Epoch 00029: ReduceLROnPlateau reducing learning rate to 5.0000006177084924e-30.\n",
      "Epoch 30/100\n",
      "1407/1407 [==============================] - 0s 206us/step - loss: 0.0066 - mean_squared_error: 0.0066 - val_loss: 0.0075 - val_mean_squared_error: 0.0075\n",
      "\n",
      "Epoch 00030: val_loss did not improve from 0.17249\n",
      "\n",
      "Epoch 00030: ReduceLROnPlateau reducing learning rate to 5.0000007681717695e-31.\n",
      "Epoch 31/100\n",
      "1407/1407 [==============================] - 0s 214us/step - loss: 0.0065 - mean_squared_error: 0.0065 - val_loss: 0.0075 - val_mean_squared_error: 0.0075\n",
      "\n",
      "Epoch 00031: val_loss did not improve from 0.17249\n",
      "\n",
      "Epoch 00031: ReduceLROnPlateau reducing learning rate to 5.000000956250865e-32.\n",
      "Epoch 32/100\n",
      "1407/1407 [==============================] - 0s 223us/step - loss: 0.0064 - mean_squared_error: 0.0064 - val_loss: 0.0075 - val_mean_squared_error: 0.0075\n",
      "\n",
      "Epoch 00032: val_loss did not improve from 0.17249\n",
      "\n",
      "Epoch 00032: ReduceLROnPlateau reducing learning rate to 5.0000010738003005e-33.\n",
      "Epoch 33/100\n",
      "1407/1407 [==============================] - 0s 221us/step - loss: 0.0067 - mean_squared_error: 0.0067 - val_loss: 0.0075 - val_mean_squared_error: 0.0075\n",
      "\n",
      "Epoch 00033: val_loss did not improve from 0.17249\n",
      "\n",
      "Epoch 00033: ReduceLROnPlateau reducing learning rate to 5.000001220737094e-34.\n",
      "Epoch 34/100\n",
      "1407/1407 [==============================] - 0s 239us/step - loss: 0.0062 - mean_squared_error: 0.0062 - val_loss: 0.0075 - val_mean_squared_error: 0.0075\n",
      "\n",
      "Epoch 00034: val_loss did not improve from 0.17249\n",
      "\n",
      "Epoch 00034: ReduceLROnPlateau reducing learning rate to 5.000001037066102e-35.\n",
      "Epoch 35/100\n",
      "1407/1407 [==============================] - 0s 236us/step - loss: 0.0066 - mean_squared_error: 0.0066 - val_loss: 0.0075 - val_mean_squared_error: 0.0075\n",
      "\n",
      "Epoch 00035: val_loss did not improve from 0.17249\n",
      "\n",
      "Epoch 00035: ReduceLROnPlateau reducing learning rate to 5.000000807477361e-36.\n",
      "Epoch 36/100\n",
      "1407/1407 [==============================] - 0s 245us/step - loss: 0.0067 - mean_squared_error: 0.0067 - val_loss: 0.0075 - val_mean_squared_error: 0.0075\n",
      "\n",
      "Epoch 00036: val_loss did not improve from 0.17249\n",
      "\n",
      "Epoch 00036: ReduceLROnPlateau reducing learning rate to 5.000000807477361e-37.\n",
      "Epoch 37/100\n",
      "1407/1407 [==============================] - 0s 215us/step - loss: 0.0068 - mean_squared_error: 0.0068 - val_loss: 0.0075 - val_mean_squared_error: 0.0075\n",
      "\n",
      "Epoch 00037: val_loss did not improve from 0.17249\n",
      "\n",
      "Epoch 00037: ReduceLROnPlateau reducing learning rate to 5.000000628111158e-38.\n",
      "Epoch 38/100\n",
      "1407/1407 [==============================] - 0s 232us/step - loss: 0.0069 - mean_squared_error: 0.0069 - val_loss: 0.0075 - val_mean_squared_error: 0.0075\n",
      "\n",
      "Epoch 00038: val_loss did not improve from 0.17249\n",
      "\n",
      "Epoch 00038: ReduceLROnPlateau reducing learning rate to 5.000000516007281e-39.\n",
      "Epoch 39/100\n",
      "1407/1407 [==============================] - 0s 218us/step - loss: 0.0063 - mean_squared_error: 0.0063 - val_loss: 0.0075 - val_mean_squared_error: 0.0075\n",
      "\n",
      "Epoch 00039: val_loss did not improve from 0.17249\n",
      "\n",
      "Epoch 00039: ReduceLROnPlateau reducing learning rate to 5.000001076526666e-40.\n",
      "Epoch 40/100\n",
      "1407/1407 [==============================] - 0s 267us/step - loss: 0.0067 - mean_squared_error: 0.0067 - val_loss: 0.0075 - val_mean_squared_error: 0.0075\n",
      "\n",
      "Epoch 00040: val_loss did not improve from 0.17249\n",
      "\n",
      "Epoch 00040: ReduceLROnPlateau reducing learning rate to 5.000001076526667e-41.\n",
      "Epoch 41/100\n",
      "1407/1407 [==============================] - 0s 269us/step - loss: 0.0065 - mean_squared_error: 0.0065 - val_loss: 0.0075 - val_mean_squared_error: 0.0075\n",
      "\n",
      "Epoch 00041: val_loss did not improve from 0.17249\n",
      "\n",
      "Epoch 00041: ReduceLROnPlateau reducing learning rate to 4.99997305055738e-42.\n",
      "Epoch 42/100\n",
      "1407/1407 [==============================] - 0s 323us/step - loss: 0.0068 - mean_squared_error: 0.0068 - val_loss: 0.0075 - val_mean_squared_error: 0.0075\n",
      "\n",
      "Epoch 00042: val_loss did not improve from 0.17249\n",
      "\n",
      "Epoch 00042: ReduceLROnPlateau reducing learning rate to 4.9998329207109475e-43.\n",
      "Epoch 43/100\n",
      "1407/1407 [==============================] - 0s 244us/step - loss: 0.0066 - mean_squared_error: 0.0066 - val_loss: 0.0075 - val_mean_squared_error: 0.0075\n",
      "\n",
      "Epoch 00043: val_loss did not improve from 0.17249\n",
      "\n",
      "Epoch 00043: ReduceLROnPlateau reducing learning rate to 5.002635517639597e-44.\n",
      "Epoch 44/100\n",
      "1407/1407 [==============================] - 0s 258us/step - loss: 0.0068 - mean_squared_error: 0.0068 - val_loss: 0.0075 - val_mean_squared_error: 0.0075\n",
      "\n",
      "Epoch 00044: val_loss did not improve from 0.17249\n",
      "\n",
      "Epoch 00044: ReduceLROnPlateau reducing learning rate to 5.0446744715693416e-45.\n",
      "Epoch 45/100\n",
      "1407/1407 [==============================] - 0s 300us/step - loss: 0.0068 - mean_squared_error: 0.0068 - val_loss: 0.0075 - val_mean_squared_error: 0.0075\n",
      "\n",
      "Epoch 00045: val_loss did not improve from 0.17249\n",
      "\n",
      "Epoch 00045: ReduceLROnPlateau reducing learning rate to 5.6051938572992686e-46.\n",
      "Epoch 46/100\n",
      "1407/1407 [==============================] - 0s 318us/step - loss: 0.0066 - mean_squared_error: 0.0066 - val_loss: 0.0075 - val_mean_squared_error: 0.0075\n",
      "\n",
      "Epoch 00046: val_loss did not improve from 0.17249\n",
      "Epoch 47/100\n",
      "1407/1407 [==============================] - 0s 326us/step - loss: 0.0065 - mean_squared_error: 0.0065 - val_loss: 0.0075 - val_mean_squared_error: 0.0075\n",
      "\n",
      "Epoch 00047: val_loss did not improve from 0.17249\n",
      "Epoch 48/100\n",
      "1407/1407 [==============================] - 0s 296us/step - loss: 0.0066 - mean_squared_error: 0.0066 - val_loss: 0.0075 - val_mean_squared_error: 0.0075\n",
      "\n",
      "Epoch 00048: val_loss did not improve from 0.17249\n",
      "Epoch 49/100\n",
      "1407/1407 [==============================] - 0s 291us/step - loss: 0.0065 - mean_squared_error: 0.0065 - val_loss: 0.0075 - val_mean_squared_error: 0.0075\n",
      "\n",
      "Epoch 00049: val_loss did not improve from 0.17249\n",
      "Epoch 50/100\n",
      "1407/1407 [==============================] - 0s 279us/step - loss: 0.0065 - mean_squared_error: 0.0065 - val_loss: 0.0075 - val_mean_squared_error: 0.0075\n",
      "\n",
      "Epoch 00050: val_loss did not improve from 0.17249\n",
      "Epoch 51/100\n",
      "1407/1407 [==============================] - 0s 261us/step - loss: 0.0063 - mean_squared_error: 0.0063 - val_loss: 0.0075 - val_mean_squared_error: 0.0075\n",
      "\n",
      "Epoch 00051: val_loss did not improve from 0.17249\n",
      "Epoch 52/100\n",
      "1407/1407 [==============================] - 0s 247us/step - loss: 0.0064 - mean_squared_error: 0.0064 - val_loss: 0.0075 - val_mean_squared_error: 0.0075\n",
      "\n",
      "Epoch 00052: val_loss did not improve from 0.17249\n",
      "Epoch 53/100\n",
      "1407/1407 [==============================] - 0s 257us/step - loss: 0.0068 - mean_squared_error: 0.0068 - val_loss: 0.0075 - val_mean_squared_error: 0.0075\n",
      "\n",
      "Epoch 00053: val_loss did not improve from 0.17249\n",
      "Epoch 54/100\n",
      "1407/1407 [==============================] - 0s 258us/step - loss: 0.0067 - mean_squared_error: 0.0067 - val_loss: 0.0075 - val_mean_squared_error: 0.0075\n",
      "\n",
      "Epoch 00054: val_loss did not improve from 0.17249\n",
      "Epoch 55/100\n",
      "1407/1407 [==============================] - 0s 257us/step - loss: 0.0068 - mean_squared_error: 0.0068 - val_loss: 0.0075 - val_mean_squared_error: 0.0075\n",
      "\n",
      "Epoch 00055: val_loss did not improve from 0.17249\n",
      "Epoch 56/100\n",
      "1407/1407 [==============================] - 0s 259us/step - loss: 0.0066 - mean_squared_error: 0.0066 - val_loss: 0.0075 - val_mean_squared_error: 0.0075\n",
      "\n",
      "Epoch 00056: val_loss did not improve from 0.17249\n",
      "Epoch 57/100\n",
      "1407/1407 [==============================] - 0s 269us/step - loss: 0.0068 - mean_squared_error: 0.0068 - val_loss: 0.0075 - val_mean_squared_error: 0.0075\n",
      "\n",
      "Epoch 00057: val_loss did not improve from 0.17249\n",
      "Epoch 58/100\n",
      "1407/1407 [==============================] - 0s 236us/step - loss: 0.0067 - mean_squared_error: 0.0067 - val_loss: 0.0075 - val_mean_squared_error: 0.0075\n",
      "\n",
      "Epoch 00058: val_loss did not improve from 0.17249\n",
      "Epoch 59/100\n",
      "1407/1407 [==============================] - 0s 237us/step - loss: 0.0067 - mean_squared_error: 0.0067 - val_loss: 0.0075 - val_mean_squared_error: 0.0075\n",
      "\n",
      "Epoch 00059: val_loss did not improve from 0.17249\n",
      "Epoch 60/100\n"
     ]
    },
    {
     "name": "stdout",
     "output_type": "stream",
     "text": [
      "1407/1407 [==============================] - 0s 244us/step - loss: 0.0068 - mean_squared_error: 0.0068 - val_loss: 0.0075 - val_mean_squared_error: 0.0075\n",
      "\n",
      "Epoch 00060: val_loss did not improve from 0.17249\n",
      "Epoch 61/100\n",
      "1407/1407 [==============================] - 0s 250us/step - loss: 0.0063 - mean_squared_error: 0.0063 - val_loss: 0.0075 - val_mean_squared_error: 0.0075\n",
      "\n",
      "Epoch 00061: val_loss did not improve from 0.17249\n",
      "Epoch 62/100\n",
      "1407/1407 [==============================] - 0s 250us/step - loss: 0.0066 - mean_squared_error: 0.0066 - val_loss: 0.0075 - val_mean_squared_error: 0.0075\n",
      "\n",
      "Epoch 00062: val_loss did not improve from 0.17249\n",
      "Epoch 63/100\n",
      "1407/1407 [==============================] - 0s 240us/step - loss: 0.0067 - mean_squared_error: 0.0067 - val_loss: 0.0075 - val_mean_squared_error: 0.0075\n",
      "\n",
      "Epoch 00063: val_loss did not improve from 0.17249\n",
      "Epoch 64/100\n",
      "1407/1407 [==============================] - 0s 298us/step - loss: 0.0069 - mean_squared_error: 0.0069 - val_loss: 0.0075 - val_mean_squared_error: 0.0075\n",
      "\n",
      "Epoch 00064: val_loss did not improve from 0.17249\n",
      "Epoch 65/100\n",
      "1407/1407 [==============================] - 0s 244us/step - loss: 0.0068 - mean_squared_error: 0.0068 - val_loss: 0.0075 - val_mean_squared_error: 0.0075\n",
      "\n",
      "Epoch 00065: val_loss did not improve from 0.17249\n",
      "Epoch 66/100\n",
      "1407/1407 [==============================] - 0s 245us/step - loss: 0.0066 - mean_squared_error: 0.0066 - val_loss: 0.0075 - val_mean_squared_error: 0.0075\n",
      "\n",
      "Epoch 00066: val_loss did not improve from 0.17249\n",
      "Epoch 67/100\n",
      "1407/1407 [==============================] - 0s 252us/step - loss: 0.0069 - mean_squared_error: 0.0069 - val_loss: 0.0075 - val_mean_squared_error: 0.0075\n",
      "\n",
      "Epoch 00067: val_loss did not improve from 0.17249\n",
      "Epoch 68/100\n",
      "1407/1407 [==============================] - 0s 235us/step - loss: 0.0069 - mean_squared_error: 0.0069 - val_loss: 0.0075 - val_mean_squared_error: 0.0075\n",
      "\n",
      "Epoch 00068: val_loss did not improve from 0.17249\n",
      "Epoch 69/100\n",
      "1407/1407 [==============================] - 0s 228us/step - loss: 0.0071 - mean_squared_error: 0.0071 - val_loss: 0.0075 - val_mean_squared_error: 0.0075\n",
      "\n",
      "Epoch 00069: val_loss did not improve from 0.17249\n",
      "Epoch 70/100\n",
      "1407/1407 [==============================] - 0s 231us/step - loss: 0.0065 - mean_squared_error: 0.0065 - val_loss: 0.0075 - val_mean_squared_error: 0.0075\n",
      "\n",
      "Epoch 00070: val_loss did not improve from 0.17249\n",
      "Epoch 71/100\n",
      "1407/1407 [==============================] - 0s 236us/step - loss: 0.0071 - mean_squared_error: 0.0071 - val_loss: 0.0075 - val_mean_squared_error: 0.0075\n",
      "\n",
      "Epoch 00071: val_loss did not improve from 0.17249\n",
      "Epoch 72/100\n",
      "1407/1407 [==============================] - 0s 242us/step - loss: 0.0069 - mean_squared_error: 0.0069 - val_loss: 0.0075 - val_mean_squared_error: 0.0075\n",
      "\n",
      "Epoch 00072: val_loss did not improve from 0.17249\n",
      "Epoch 73/100\n",
      "1407/1407 [==============================] - 0s 244us/step - loss: 0.0068 - mean_squared_error: 0.0068 - val_loss: 0.0075 - val_mean_squared_error: 0.0075\n",
      "\n",
      "Epoch 00073: val_loss did not improve from 0.17249\n",
      "Epoch 74/100\n",
      "1407/1407 [==============================] - 0s 243us/step - loss: 0.0066 - mean_squared_error: 0.0066 - val_loss: 0.0075 - val_mean_squared_error: 0.0075\n",
      "\n",
      "Epoch 00074: val_loss did not improve from 0.17249\n",
      "Epoch 75/100\n",
      "1407/1407 [==============================] - 0s 240us/step - loss: 0.0063 - mean_squared_error: 0.0063 - val_loss: 0.0075 - val_mean_squared_error: 0.0075\n",
      "\n",
      "Epoch 00075: val_loss did not improve from 0.17249\n",
      "Epoch 76/100\n",
      "1407/1407 [==============================] - 0s 236us/step - loss: 0.0064 - mean_squared_error: 0.0064 - val_loss: 0.0075 - val_mean_squared_error: 0.0075\n",
      "\n",
      "Epoch 00076: val_loss did not improve from 0.17249\n",
      "Epoch 77/100\n",
      "1407/1407 [==============================] - 0s 237us/step - loss: 0.0068 - mean_squared_error: 0.0068 - val_loss: 0.0075 - val_mean_squared_error: 0.0075\n",
      "\n",
      "Epoch 00077: val_loss did not improve from 0.17249\n",
      "Epoch 78/100\n",
      "1407/1407 [==============================] - 0s 242us/step - loss: 0.0066 - mean_squared_error: 0.0066 - val_loss: 0.0075 - val_mean_squared_error: 0.0075\n",
      "\n",
      "Epoch 00078: val_loss did not improve from 0.17249\n",
      "Epoch 79/100\n",
      "1407/1407 [==============================] - 0s 250us/step - loss: 0.0070 - mean_squared_error: 0.0070 - val_loss: 0.0075 - val_mean_squared_error: 0.0075\n",
      "\n",
      "Epoch 00079: val_loss did not improve from 0.17249\n",
      "Epoch 80/100\n",
      "1407/1407 [==============================] - 0s 238us/step - loss: 0.0065 - mean_squared_error: 0.0065 - val_loss: 0.0075 - val_mean_squared_error: 0.0075\n",
      "\n",
      "Epoch 00080: val_loss did not improve from 0.17249\n",
      "Epoch 81/100\n",
      "1407/1407 [==============================] - 0s 237us/step - loss: 0.0069 - mean_squared_error: 0.0069 - val_loss: 0.0075 - val_mean_squared_error: 0.0075\n",
      "\n",
      "Epoch 00081: val_loss did not improve from 0.17249\n",
      "Epoch 82/100\n",
      "1407/1407 [==============================] - 0s 248us/step - loss: 0.0065 - mean_squared_error: 0.0065 - val_loss: 0.0075 - val_mean_squared_error: 0.0075\n",
      "\n",
      "Epoch 00082: val_loss did not improve from 0.17249\n",
      "Epoch 83/100\n",
      "1407/1407 [==============================] - 0s 259us/step - loss: 0.0068 - mean_squared_error: 0.0068 - val_loss: 0.0075 - val_mean_squared_error: 0.0075\n",
      "\n",
      "Epoch 00083: val_loss did not improve from 0.17249\n",
      "Epoch 84/100\n",
      "1407/1407 [==============================] - ETA: 0s - loss: 0.0068 - mean_squared_error: 0.00 - 0s 242us/step - loss: 0.0067 - mean_squared_error: 0.0067 - val_loss: 0.0075 - val_mean_squared_error: 0.0075\n",
      "\n",
      "Epoch 00084: val_loss did not improve from 0.17249\n",
      "Epoch 85/100\n",
      "1407/1407 [==============================] - 0s 232us/step - loss: 0.0069 - mean_squared_error: 0.0069 - val_loss: 0.0075 - val_mean_squared_error: 0.0075\n",
      "\n",
      "Epoch 00085: val_loss did not improve from 0.17249\n",
      "Epoch 86/100\n",
      "1407/1407 [==============================] - 0s 245us/step - loss: 0.0066 - mean_squared_error: 0.0066 - val_loss: 0.0075 - val_mean_squared_error: 0.0075\n",
      "\n",
      "Epoch 00086: val_loss did not improve from 0.17249\n",
      "Epoch 87/100\n",
      "1407/1407 [==============================] - 0s 235us/step - loss: 0.0067 - mean_squared_error: 0.0067 - val_loss: 0.0075 - val_mean_squared_error: 0.0075\n",
      "\n",
      "Epoch 00087: val_loss did not improve from 0.17249\n",
      "Epoch 88/100\n",
      "1407/1407 [==============================] - 0s 252us/step - loss: 0.0065 - mean_squared_error: 0.0065 - val_loss: 0.0075 - val_mean_squared_error: 0.0075\n",
      "\n",
      "Epoch 00088: val_loss did not improve from 0.17249\n",
      "Epoch 89/100\n",
      "1407/1407 [==============================] - 0s 248us/step - loss: 0.0068 - mean_squared_error: 0.0068 - val_loss: 0.0075 - val_mean_squared_error: 0.0075\n",
      "\n",
      "Epoch 00089: val_loss did not improve from 0.17249\n",
      "Epoch 90/100\n",
      "1407/1407 [==============================] - 0s 254us/step - loss: 0.0067 - mean_squared_error: 0.0067 - val_loss: 0.0075 - val_mean_squared_error: 0.0075\n",
      "\n",
      "Epoch 00090: val_loss did not improve from 0.17249\n",
      "Epoch 91/100\n",
      "1407/1407 [==============================] - 0s 279us/step - loss: 0.0070 - mean_squared_error: 0.0070 - val_loss: 0.0075 - val_mean_squared_error: 0.0075\n",
      "\n",
      "Epoch 00091: val_loss did not improve from 0.17249\n",
      "Epoch 92/100\n",
      "1407/1407 [==============================] - 0s 265us/step - loss: 0.0066 - mean_squared_error: 0.0066 - val_loss: 0.0075 - val_mean_squared_error: 0.0075\n",
      "\n",
      "Epoch 00092: val_loss did not improve from 0.17249\n",
      "Epoch 93/100\n",
      "1407/1407 [==============================] - 0s 268us/step - loss: 0.0063 - mean_squared_error: 0.0063 - val_loss: 0.0075 - val_mean_squared_error: 0.0075\n",
      "\n",
      "Epoch 00093: val_loss did not improve from 0.17249\n",
      "Epoch 94/100\n",
      "1407/1407 [==============================] - 0s 264us/step - loss: 0.0067 - mean_squared_error: 0.0067 - val_loss: 0.0075 - val_mean_squared_error: 0.0075\n",
      "\n",
      "Epoch 00094: val_loss did not improve from 0.17249\n",
      "Epoch 95/100\n",
      "1407/1407 [==============================] - 0s 257us/step - loss: 0.0065 - mean_squared_error: 0.0065 - val_loss: 0.0075 - val_mean_squared_error: 0.0075\n",
      "\n",
      "Epoch 00095: val_loss did not improve from 0.17249\n",
      "Epoch 96/100\n",
      "1407/1407 [==============================] - 0s 275us/step - loss: 0.0067 - mean_squared_error: 0.0067 - val_loss: 0.0075 - val_mean_squared_error: 0.0075\n",
      "\n",
      "Epoch 00096: val_loss did not improve from 0.17249\n",
      "Epoch 97/100\n"
     ]
    },
    {
     "name": "stdout",
     "output_type": "stream",
     "text": [
      "1407/1407 [==============================] - 0s 273us/step - loss: 0.0068 - mean_squared_error: 0.0068 - val_loss: 0.0075 - val_mean_squared_error: 0.0075\n",
      "\n",
      "Epoch 00097: val_loss did not improve from 0.17249\n",
      "Epoch 98/100\n",
      "1407/1407 [==============================] - 0s 249us/step - loss: 0.0066 - mean_squared_error: 0.0066 - val_loss: 0.0075 - val_mean_squared_error: 0.0075\n",
      "\n",
      "Epoch 00098: val_loss did not improve from 0.17249\n",
      "Epoch 99/100\n",
      "1407/1407 [==============================] - 0s 262us/step - loss: 0.0069 - mean_squared_error: 0.0069 - val_loss: 0.0075 - val_mean_squared_error: 0.0075\n",
      "\n",
      "Epoch 00099: val_loss did not improve from 0.17249\n",
      "Epoch 100/100\n",
      "1407/1407 [==============================] - 0s 270us/step - loss: 0.0064 - mean_squared_error: 0.0064 - val_loss: 0.0075 - val_mean_squared_error: 0.0075\n",
      "\n",
      "Epoch 00100: val_loss did not improve from 0.17249\n"
     ]
    }
   ],
   "source": [
    "history = model.fit(trainX, trainY, epochs=100, batch_size=128, callbacks=[checkpoint, lr_reduce], validation_data=(testX, testY))"
   ]
  },
  {
   "cell_type": "code",
   "execution_count": 48,
   "metadata": {
    "ExecuteTime": {
     "end_time": "2020-07-16T05:17:18.600448Z",
     "start_time": "2020-07-16T05:17:17.399124Z"
    }
   },
   "outputs": [
    {
     "data": {
      "image/png": "[encoded data removed]",
      "text/plain": [
       "<Figure size 432x288 with 1 Axes>"
      ]
     },
     "metadata": {
      "needs_background": "light"
     },
     "output_type": "display_data"
    },
    {
     "data": {
      "image/png": "[encoded data removed]",
      "text/plain": [
       "<Figure size 432x288 with 1 Axes>"
      ]
     },
     "metadata": {
      "needs_background": "light"
     },
     "output_type": "display_data"
    }
   ],
   "source": [
    "plt.plot(history.history['mean_squared_error'])\n",
    "plt.plot(history.history['val_mean_squared_error'])\n",
    "plt.title('Model mean squared error')\n",
    "plt.xlabel('epoch')\n",
    "plt.ylabel('accuracy')\n",
    "plt.legend(['train','test'], loc='upper left')\n",
    "plt.show()\n",
    "\n",
    "plt.plot(history.history['loss'])\n",
    "plt.plot(history.history['val_loss'])\n",
    "plt.title('Model Loss')\n",
    "plt.xlabel('epoch')\n",
    "plt.ylabel('loss')\n",
    "plt.legend(['train','test'], loc='upper left')\n",
    "plt.show()"
   ]
  },
  {
   "cell_type": "code",
   "execution_count": 49,
   "metadata": {
    "ExecuteTime": {
     "end_time": "2020-07-16T05:17:18.875715Z",
     "start_time": "2020-07-16T05:17:18.603441Z"
    }
   },
   "outputs": [
    {
     "name": "stdout",
     "output_type": "stream",
     "text": [
      "Train Score: 0.00561 MSE (0.07 RMSE)\n",
      "Test Score: 0.00750 MSE (0.09 RMSE)\n"
     ]
    },
    {
     "data": {
      "text/plain": [
       "(0.005608348895060249, 0.007504450910833486)"
      ]
     },
     "execution_count": 49,
     "metadata": {},
     "output_type": "execute_result"
    }
   ],
   "source": [
    "def model_score(model, X_train, y_train, X_test, y_test):\n",
    "    trainScore = model.evaluate(X_train, y_train, verbose=0)\n",
    "    print('Train Score: %.5f MSE (%.2f RMSE)' % (trainScore[0], math.sqrt(trainScore[0])))\n",
    "    testScore = model.evaluate(X_test, y_test, verbose=0)\n",
    "    print('Test Score: %.5f MSE (%.2f RMSE)' % (testScore[0], math.sqrt(testScore[0])))\n",
    "    return trainScore[0], testScore[0]\n",
    "model_score(model, trainX, trainY, testX, testY)"
   ]
  },
  {
   "cell_type": "code",
   "execution_count": 50,
   "metadata": {
    "ExecuteTime": {
     "end_time": "2020-07-16T05:17:19.377375Z",
     "start_time": "2020-07-16T05:17:18.879707Z"
    }
   },
   "outputs": [
    {
     "data": {
      "text/plain": [
       "array([[33.116135],\n",
       "       [32.09951 ],\n",
       "       [32.151356],\n",
       "       [32.77749 ],\n",
       "       [32.82815 ],\n",
       "       [32.61233 ],\n",
       "       [32.2664  ],\n",
       "       [31.650213],\n",
       "       [30.799866],\n",
       "       [29.744051]], dtype=float32)"
      ]
     },
     "execution_count": 50,
     "metadata": {},
     "output_type": "execute_result"
    }
   ],
   "source": [
    "pred = model.predict(testX)\n",
    "pred = scaler.inverse_transform(pred)\n",
    "pred[:10]"
   ]
  },
  {
   "cell_type": "code",
   "execution_count": 51,
   "metadata": {
    "ExecuteTime": {
     "end_time": "2020-07-16T05:17:19.390336Z",
     "start_time": "2020-07-16T05:17:19.380364Z"
    }
   },
   "outputs": [
    {
     "data": {
      "text/plain": [
       "array([[34.49    ],\n",
       "       [35.93    ],\n",
       "       [36.24    ],\n",
       "       [36.1     ],\n",
       "       [35.69    ],\n",
       "       [35.19    ],\n",
       "       [34.1     ],\n",
       "       [32.93    ],\n",
       "       [31.31    ],\n",
       "       [31.739998]], dtype=float32)"
      ]
     },
     "execution_count": 51,
     "metadata": {},
     "output_type": "execute_result"
    }
   ],
   "source": [
    "testY = testY.reshape(testY.shape[0], 1)\n",
    "testY = scaler.inverse_transform(testY)\n",
    "testY[:10]"
   ]
  },
  {
   "cell_type": "code",
   "execution_count": 52,
   "metadata": {
    "ExecuteTime": {
     "end_time": "2020-07-16T05:17:19.869060Z",
     "start_time": "2020-07-16T05:17:19.393341Z"
    }
   },
   "outputs": [
    {
     "name": "stdout",
     "output_type": "stream",
     "text": [
      "Red means predicted and Blue means actual prices\n"
     ]
    },
    {
     "data": {
      "image/png": "[encoded data removed]",
      "text/plain": [
       "<Figure size 1080x504 with 1 Axes>"
      ]
     },
     "metadata": {
      "needs_background": "light"
     },
     "output_type": "display_data"
    }
   ],
   "source": [
    "print('Red means predicted and Blue means actual prices')\n",
    "plt.rcParams['figure.figsize'] = (15,7)\n",
    "plt.plot(testY, 'b')\n",
    "plt.plot(pred, 'r')\n",
    "plt.xlabel('Time')\n",
    "plt.ylabel('Stock Prices')\n",
    "plt.title('Checking the accuracy of model with time')\n",
    "plt.grid(True)\n",
    "plt.show()"
   ]
  }
 ],
 "metadata": {
  "kernelspec": {
   "display_name": "Python 3",
   "language": "python",
   "name": "python3"
  },
  "language_info": {
   "codemirror_mode": {
    "name": "ipython",
    "version": 3
   },
   "file_extension": ".py",
   "mimetype": "text/x-python",
   "name": "python",
   "nbconvert_exporter": "python",
   "pygments_lexer": "ipython3",
   "version": "3.7.4"
  },
  "latex_envs": {
   "LaTeX_envs_menu_present": true,
   "autoclose": false,
   "autocomplete": true,
   "bibliofile": "biblio.bib",
   "cite_by": "apalike",
   "current_citInitial": 1,
   "eqLabelWithNumbers": true,
   "eqNumInitial": 1,
   "hotkeys": {
    "equation": "Ctrl-E",
    "itemize": "Ctrl-I"
   },
   "labels_anchors": false,
   "latex_user_defs": false,
   "report_style_numbering": false,
   "user_envs_cfg": false
  },
  "nbTranslate": {
   "displayLangs": [
    "*"
   ],
   "hotkey": "alt-t",
   "langInMainMenu": true,
   "sourceLang": "en",
   "targetLang": "fr",
   "useGoogleTranslate": true
  },
  "toc": {
   "base_numbering": 1,
   "nav_menu": {},
   "number_sections": true,
   "sideBar": true,
   "skip_h1_title": false,
   "title_cell": "Table of Contents",
   "title_sidebar": "Contents",
   "toc_cell": false,
   "toc_position": {},
   "toc_section_display": true,
   "toc_window_display": false
  }
 },
 "nbformat": 4,
 "nbformat_minor": 2
}
